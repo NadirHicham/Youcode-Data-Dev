{
 "cells": [
  {
   "cell_type": "code",
   "execution_count": 22,
   "metadata": {},
   "outputs": [
    {
     "data": {
      "text/html": [
       "<style>\n",
       "        .bk-notebook-logo {\n",
       "            display: block;\n",
       "            width: 20px;\n",
       "            height: 20px;\n",
       "            background-image: url(data:image/png;base64,iVBORw0KGgoAAAANSUhEUgAAABQAAAAUCAYAAACNiR0NAAAABHNCSVQICAgIfAhkiAAAAAlwSFlzAAALEgAACxIB0t1+/AAAABx0RVh0U29mdHdhcmUAQWRvYmUgRmlyZXdvcmtzIENTNui8sowAAAOkSURBVDiNjZRtaJVlGMd/1/08zzln5zjP1LWcU9N0NkN8m2CYjpgQYQXqSs0I84OLIC0hkEKoPtiH3gmKoiJDU7QpLgoLjLIQCpEsNJ1vqUOdO7ppbuec5+V+rj4ctwzd8IIbbi6u+8f1539dt3A78eXC7QizUF7gyV1fD1Yqg4JWz84yffhm0qkFqBogB9rM8tZdtwVsPUhWhGcFJngGeWrPzHm5oaMmkfEg1usvLFyc8jLRqDOMru7AyC8saQr7GG7f5fvDeH7Ej8CM66nIF+8yngt6HWaKh7k49Soy9nXurCi1o3qUbS3zWfrYeQDTB/Qj6kX6Ybhw4B+bOYoLKCC9H3Nu/leUTZ1JdRWkkn2ldcCamzrcf47KKXdAJllSlxAOkRgyHsGC/zRday5Qld9DyoM4/q/rUoy/CXh3jzOu3bHUVZeU+DEn8FInkPBFlu3+nW3Nw0mk6vCDiWg8CeJaxEwuHS3+z5RgY+YBR6V1Z1nxSOfoaPa4LASWxxdNp+VWTk7+4vzaou8v8PN+xo+KY2xsw6une2frhw05CTYOmQvsEhjhWjn0bmXPjpE1+kplmmkP3suftwTubK9Vq22qKmrBhpY4jvd5afdRA3wGjFAgcnTK2s4hY0/GPNIb0nErGMCRxWOOX64Z8RAC4oCXdklmEvcL8o0BfkNK4lUg9HTl+oPlQxdNo3Mg4Nv175e/1LDGzZen30MEjRUtmXSfiTVu1kK8W4txyV6BMKlbgk3lMwYCiusNy9fVfvvwMxv8Ynl6vxoByANLTWplvuj/nF9m2+PDtt1eiHPBr1oIfhCChQMBw6Aw0UulqTKZdfVvfG7VcfIqLG9bcldL/+pdWTLxLUy8Qq38heUIjh4XlzZxzQm19lLFlr8vdQ97rjZVOLf8nclzckbcD4wxXMidpX30sFd37Fv/GtwwhzhxGVAprjbg0gCAEeIgwCZyTV2Z1REEW8O4py0wsjeloKoMr6iCY6dP92H6Vw/oTyICIthibxjm/DfN9lVz8IqtqKYLUXfoKVMVQVVJOElGjrnnUt9T9wbgp8AyYKaGlqingHZU/uG2NTZSVqwHQTWkx9hxjkpWDaCg6Ckj5qebgBVbT3V3NNXMSiWSDdGV3hrtzla7J+duwPOToIg42ChPQOQjspnSlp1V+Gjdged7+8UN5CRAV7a5EdFNwCjEaBR27b3W890TE7g24NAP/mMDXRWrGoFPQI9ls/MWO2dWFAar/xcOIImbbpA3zgAAAABJRU5ErkJggg==);\n",
       "        }\n",
       "    </style>\n",
       "    <div>\n",
       "        <a href=\"https://bokeh.org\" target=\"_blank\" class=\"bk-notebook-logo\"></a>\n",
       "        <span id=\"ee6dd518-f264-416b-aff7-a394c32942ad\">Loading BokehJS ...</span>\n",
       "    </div>\n"
      ]
     },
     "metadata": {},
     "output_type": "display_data"
    },
    {
     "data": {
      "application/javascript": "(function(root) {\n  function now() {\n    return new Date();\n  }\n\n  const force = true;\n\n  if (typeof root._bokeh_onload_callbacks === \"undefined\" || force === true) {\n    root._bokeh_onload_callbacks = [];\n    root._bokeh_is_loading = undefined;\n  }\n\nconst JS_MIME_TYPE = 'application/javascript';\n  const HTML_MIME_TYPE = 'text/html';\n  const EXEC_MIME_TYPE = 'application/vnd.bokehjs_exec.v0+json';\n  const CLASS_NAME = 'output_bokeh rendered_html';\n\n  /**\n   * Render data to the DOM node\n   */\n  function render(props, node) {\n    const script = document.createElement(\"script\");\n    node.appendChild(script);\n  }\n\n  /**\n   * Handle when an output is cleared or removed\n   */\n  function handleClearOutput(event, handle) {\n    const cell = handle.cell;\n\n    const id = cell.output_area._bokeh_element_id;\n    const server_id = cell.output_area._bokeh_server_id;\n    // Clean up Bokeh references\n    if (id != null && id in Bokeh.index) {\n      Bokeh.index[id].model.document.clear();\n      delete Bokeh.index[id];\n    }\n\n    if (server_id !== undefined) {\n      // Clean up Bokeh references\n      const cmd_clean = \"from bokeh.io.state import curstate; print(curstate().uuid_to_server['\" + server_id + \"'].get_sessions()[0].document.roots[0]._id)\";\n      cell.notebook.kernel.execute(cmd_clean, {\n        iopub: {\n          output: function(msg) {\n            const id = msg.content.text.trim();\n            if (id in Bokeh.index) {\n              Bokeh.index[id].model.document.clear();\n              delete Bokeh.index[id];\n            }\n          }\n        }\n      });\n      // Destroy server and session\n      const cmd_destroy = \"import bokeh.io.notebook as ion; ion.destroy_server('\" + server_id + \"')\";\n      cell.notebook.kernel.execute(cmd_destroy);\n    }\n  }\n\n  /**\n   * Handle when a new output is added\n   */\n  function handleAddOutput(event, handle) {\n    const output_area = handle.output_area;\n    const output = handle.output;\n\n    // limit handleAddOutput to display_data with EXEC_MIME_TYPE content only\n    if ((output.output_type != \"display_data\") || (!Object.prototype.hasOwnProperty.call(output.data, EXEC_MIME_TYPE))) {\n      return\n    }\n\n    const toinsert = output_area.element.find(\".\" + CLASS_NAME.split(' ')[0]);\n\n    if (output.metadata[EXEC_MIME_TYPE][\"id\"] !== undefined) {\n      toinsert[toinsert.length - 1].firstChild.textContent = output.data[JS_MIME_TYPE];\n      // store reference to embed id on output_area\n      output_area._bokeh_element_id = output.metadata[EXEC_MIME_TYPE][\"id\"];\n    }\n    if (output.metadata[EXEC_MIME_TYPE][\"server_id\"] !== undefined) {\n      const bk_div = document.createElement(\"div\");\n      bk_div.innerHTML = output.data[HTML_MIME_TYPE];\n      const script_attrs = bk_div.children[0].attributes;\n      for (let i = 0; i < script_attrs.length; i++) {\n        toinsert[toinsert.length - 1].firstChild.setAttribute(script_attrs[i].name, script_attrs[i].value);\n        toinsert[toinsert.length - 1].firstChild.textContent = bk_div.children[0].textContent\n      }\n      // store reference to server id on output_area\n      output_area._bokeh_server_id = output.metadata[EXEC_MIME_TYPE][\"server_id\"];\n    }\n  }\n\n  function register_renderer(events, OutputArea) {\n\n    function append_mime(data, metadata, element) {\n      // create a DOM node to render to\n      const toinsert = this.create_output_subarea(\n        metadata,\n        CLASS_NAME,\n        EXEC_MIME_TYPE\n      );\n      this.keyboard_manager.register_events(toinsert);\n      // Render to node\n      const props = {data: data, metadata: metadata[EXEC_MIME_TYPE]};\n      render(props, toinsert[toinsert.length - 1]);\n      element.append(toinsert);\n      return toinsert\n    }\n\n    /* Handle when an output is cleared or removed */\n    events.on('clear_output.CodeCell', handleClearOutput);\n    events.on('delete.Cell', handleClearOutput);\n\n    /* Handle when a new output is added */\n    events.on('output_added.OutputArea', handleAddOutput);\n\n    /**\n     * Register the mime type and append_mime function with output_area\n     */\n    OutputArea.prototype.register_mime_type(EXEC_MIME_TYPE, append_mime, {\n      /* Is output safe? */\n      safe: true,\n      /* Index of renderer in `output_area.display_order` */\n      index: 0\n    });\n  }\n\n  // register the mime type if in Jupyter Notebook environment and previously unregistered\n  if (root.Jupyter !== undefined) {\n    const events = require('base/js/events');\n    const OutputArea = require('notebook/js/outputarea').OutputArea;\n\n    if (OutputArea.prototype.mime_types().indexOf(EXEC_MIME_TYPE) == -1) {\n      register_renderer(events, OutputArea);\n    }\n  }\n  if (typeof (root._bokeh_timeout) === \"undefined\" || force === true) {\n    root._bokeh_timeout = Date.now() + 5000;\n    root._bokeh_failed_load = false;\n  }\n\n  const NB_LOAD_WARNING = {'data': {'text/html':\n     \"<div style='background-color: #fdd'>\\n\"+\n     \"<p>\\n\"+\n     \"BokehJS does not appear to have successfully loaded. If loading BokehJS from CDN, this \\n\"+\n     \"may be due to a slow or bad network connection. Possible fixes:\\n\"+\n     \"</p>\\n\"+\n     \"<ul>\\n\"+\n     \"<li>re-rerun `output_notebook()` to attempt to load from CDN again, or</li>\\n\"+\n     \"<li>use INLINE resources instead, as so:</li>\\n\"+\n     \"</ul>\\n\"+\n     \"<code>\\n\"+\n     \"from bokeh.resources import INLINE\\n\"+\n     \"output_notebook(resources=INLINE)\\n\"+\n     \"</code>\\n\"+\n     \"</div>\"}};\n\n  function display_loaded() {\n    const el = document.getElementById(\"ee6dd518-f264-416b-aff7-a394c32942ad\");\n    if (el != null) {\n      el.textContent = \"BokehJS is loading...\";\n    }\n    if (root.Bokeh !== undefined) {\n      if (el != null) {\n        el.textContent = \"BokehJS \" + root.Bokeh.version + \" successfully loaded.\";\n      }\n    } else if (Date.now() < root._bokeh_timeout) {\n      setTimeout(display_loaded, 100)\n    }\n  }\n\n  function run_callbacks() {\n    try {\n      root._bokeh_onload_callbacks.forEach(function(callback) {\n        if (callback != null)\n          callback();\n      });\n    } finally {\n      delete root._bokeh_onload_callbacks\n    }\n    console.debug(\"Bokeh: all callbacks have finished\");\n  }\n\n  function load_libs(css_urls, js_urls, callback) {\n    if (css_urls == null) css_urls = [];\n    if (js_urls == null) js_urls = [];\n\n    root._bokeh_onload_callbacks.push(callback);\n    if (root._bokeh_is_loading > 0) {\n      console.debug(\"Bokeh: BokehJS is being loaded, scheduling callback at\", now());\n      return null;\n    }\n    if (js_urls == null || js_urls.length === 0) {\n      run_callbacks();\n      return null;\n    }\n    console.debug(\"Bokeh: BokehJS not loaded, scheduling load and callback at\", now());\n    root._bokeh_is_loading = css_urls.length + js_urls.length;\n\n    function on_load() {\n      root._bokeh_is_loading--;\n      if (root._bokeh_is_loading === 0) {\n        console.debug(\"Bokeh: all BokehJS libraries/stylesheets loaded\");\n        run_callbacks()\n      }\n    }\n\n    function on_error(url) {\n      console.error(\"failed to load \" + url);\n    }\n\n    for (let i = 0; i < css_urls.length; i++) {\n      const url = css_urls[i];\n      const element = document.createElement(\"link\");\n      element.onload = on_load;\n      element.onerror = on_error.bind(null, url);\n      element.rel = \"stylesheet\";\n      element.type = \"text/css\";\n      element.href = url;\n      console.debug(\"Bokeh: injecting link tag for BokehJS stylesheet: \", url);\n      document.body.appendChild(element);\n    }\n\n    for (let i = 0; i < js_urls.length; i++) {\n      const url = js_urls[i];\n      const element = document.createElement('script');\n      element.onload = on_load;\n      element.onerror = on_error.bind(null, url);\n      element.async = false;\n      element.src = url;\n      console.debug(\"Bokeh: injecting script tag for BokehJS library: \", url);\n      document.head.appendChild(element);\n    }\n  };\n\n  function inject_raw_css(css) {\n    const element = document.createElement(\"style\");\n    element.appendChild(document.createTextNode(css));\n    document.body.appendChild(element);\n  }\n\n  const js_urls = [\"https://cdn.bokeh.org/bokeh/release/bokeh-3.2.0.min.js\", \"https://cdn.bokeh.org/bokeh/release/bokeh-gl-3.2.0.min.js\", \"https://cdn.bokeh.org/bokeh/release/bokeh-widgets-3.2.0.min.js\", \"https://cdn.bokeh.org/bokeh/release/bokeh-tables-3.2.0.min.js\", \"https://cdn.bokeh.org/bokeh/release/bokeh-mathjax-3.2.0.min.js\"];\n  const css_urls = [];\n\n  const inline_js = [    function(Bokeh) {\n      Bokeh.set_log_level(\"info\");\n    },\nfunction(Bokeh) {\n    }\n  ];\n\n  function run_inline_js() {\n    if (root.Bokeh !== undefined || force === true) {\n          for (let i = 0; i < inline_js.length; i++) {\n      inline_js[i].call(root, root.Bokeh);\n    }\nif (force === true) {\n        display_loaded();\n      }} else if (Date.now() < root._bokeh_timeout) {\n      setTimeout(run_inline_js, 100);\n    } else if (!root._bokeh_failed_load) {\n      console.log(\"Bokeh: BokehJS failed to load within specified timeout.\");\n      root._bokeh_failed_load = true;\n    } else if (force !== true) {\n      const cell = $(document.getElementById(\"ee6dd518-f264-416b-aff7-a394c32942ad\")).parents('.cell').data().cell;\n      cell.output_area.append_execute_result(NB_LOAD_WARNING)\n    }\n  }\n\n  if (root._bokeh_is_loading === 0) {\n    console.debug(\"Bokeh: BokehJS loaded, going straight to plotting\");\n    run_inline_js();\n  } else {\n    load_libs(css_urls, js_urls, function() {\n      console.debug(\"Bokeh: BokehJS plotting callback run at\", now());\n      run_inline_js();\n    });\n  }\n}(window));",
      "application/vnd.bokehjs_load.v0+json": ""
     },
     "metadata": {},
     "output_type": "display_data"
    }
   ],
   "source": [
    "import pandas as pd\n",
    "from bokeh.plotting import figure,show\n",
    "from bokeh.io import output_notebook\n",
    "from bokeh.palettes import Accent6,Blues5,Category20c\n",
    "import matplotlib.pyplot as plt\n",
    "\n",
    "\n",
    "output_notebook()"
   ]
  },
  {
   "cell_type": "code",
   "execution_count": 23,
   "metadata": {},
   "outputs": [
    {
     "name": "stdout",
     "output_type": "stream",
     "text": [
      "<class 'pandas.core.frame.DataFrame'>\n",
      "RangeIndex: 3198 entries, 0 to 3197\n",
      "Data columns (total 8 columns):\n",
      " #   Column                      Non-Null Count  Dtype \n",
      "---  ------                      --------------  ----- \n",
      " 0   Company                     3197 non-null   object\n",
      " 1   Job Title                   3197 non-null   object\n",
      " 2   Location                    3197 non-null   object\n",
      " 3   Job Type                    3197 non-null   object\n",
      " 4   Experience level            2962 non-null   object\n",
      " 5   Salary                      3009 non-null   object\n",
      " 6   Requirment of the company   3198 non-null   object\n",
      " 7   Facilities                  3198 non-null   object\n",
      "dtypes: object(8)\n",
      "memory usage: 200.0+ KB\n"
     ]
    }
   ],
   "source": [
    "data = pd.read_csv('data/jobs.csv',encoding = 'latin1')\n",
    "\n",
    "data.info()"
   ]
  },
  {
   "cell_type": "markdown",
   "metadata": {},
   "source": [
    "<h4>Cleanning</h4>"
   ]
  },
  {
   "cell_type": "code",
   "execution_count": 24,
   "metadata": {},
   "outputs": [
    {
     "data": {
      "text/plain": [
       "202"
      ]
     },
     "execution_count": 24,
     "metadata": {},
     "output_type": "execute_result"
    }
   ],
   "source": [
    "#check duplicated\n",
    "data.duplicated().sum()"
   ]
  },
  {
   "cell_type": "code",
   "execution_count": 25,
   "metadata": {},
   "outputs": [],
   "source": [
    "#remove duplicated\n",
    "data.drop_duplicates(inplace=True)"
   ]
  },
  {
   "cell_type": "code",
   "execution_count": 26,
   "metadata": {},
   "outputs": [
    {
     "data": {
      "text/plain": [
       "Company                         1\n",
       "Job Title                       1\n",
       "Location                        1\n",
       "Job Type                        1\n",
       "Experience level              228\n",
       "Salary                        172\n",
       "Requirment of the company       0\n",
       "Facilities                      0\n",
       "dtype: int64"
      ]
     },
     "execution_count": 26,
     "metadata": {},
     "output_type": "execute_result"
    }
   ],
   "source": [
    "#check null in data\n",
    "data.isna().sum()"
   ]
  },
  {
   "cell_type": "code",
   "execution_count": 27,
   "metadata": {},
   "outputs": [],
   "source": [
    "#Drop rows null\n",
    "data.drop(index=data.loc[data['Company'].isna()].index,inplace=True)"
   ]
  },
  {
   "cell_type": "code",
   "execution_count": 28,
   "metadata": {},
   "outputs": [],
   "source": [
    "#Replace data null of Experience column with 'No experience'\n",
    "data['Experience level'].fillna('No specific',inplace=True)"
   ]
  },
  {
   "cell_type": "code",
   "execution_count": 29,
   "metadata": {},
   "outputs": [],
   "source": [
    "#Replace data null of Salary column with 'No salary'\n",
    "data['Salary'].fillna('0',inplace=True)"
   ]
  },
  {
   "cell_type": "code",
   "execution_count": 30,
   "metadata": {},
   "outputs": [],
   "source": [
    "import re\n",
    "\n",
    "def cleanSalary(salary):\n",
    "    currency_paterns = re.compile(\"[\"\n",
    "                                  u\"GBP\"\n",
    "                                  u\"EUR\"\n",
    "                                  u\"+\"\n",
    "                                  u\"K\"\n",
    "                                  u\"*\"\n",
    "                                  \"]+\",flags=re.UNICODE)\n",
    "\n",
    "    return int(currency_paterns.sub(r'',salary))*1000\n",
    " \n",
    "data['Salary'] = data['Salary'].apply(lambda x:cleanSalary(x))"
   ]
  },
  {
   "cell_type": "code",
   "execution_count": 31,
   "metadata": {},
   "outputs": [],
   "source": [
    "#Drop Salary equal zero where Experience level defferent Entership\n",
    "indexs = data.loc[(data['Salary'] == 0) & (data['Job Type'] != 'Internship')].index\n",
    "\n",
    "data.drop(index=indexs,inplace=True)"
   ]
  },
  {
   "cell_type": "code",
   "execution_count": 32,
   "metadata": {},
   "outputs": [],
   "source": [
    "#!pip install pycountry\n",
    "import pycountry"
   ]
  },
  {
   "cell_type": "code",
   "execution_count": 33,
   "metadata": {},
   "outputs": [],
   "source": [
    "def getCountryFromLocation(txt):\n",
    "    for country in pycountry.countries:\n",
    "        if country.name in txt or country.alpha_3 in txt:\n",
    "            ctry = country.name\n",
    "            break\n",
    "        else:\n",
    "            ctry = 'Not found'#txt\n",
    "    return ctry\n",
    "\n",
    "\n",
    "data['country'] = data['Location'].apply(lambda x:getCountryFromLocation(x))"
   ]
  },
  {
   "cell_type": "code",
   "execution_count": 34,
   "metadata": {},
   "outputs": [],
   "source": [
    "\n",
    "#BI, Big Data, Data Analyst, Data Analysis, Data Sience, Data Scientist, Data Engineer, Data Engineering\n",
    "def getSubTitleJob(t):\n",
    "    if ('Data Engineer'.upper() in t.upper()) | ('Data Engineering'.upper() in t.upper()):\n",
    "        return 'Data Engineer'.title()\n",
    "    elif ('BI'.upper() in t.upper()) | ('Business Intelligence'.upper() in t.upper()):\n",
    "        return 'Business Intelligence'.title()\n",
    "    elif ('Big Data'.upper() in t.upper()):\n",
    "        return 'Big Data'.title()\n",
    "    elif ('Data Analyst'.upper() in t.upper()) | ('Data Analysis'.upper() in t.upper()) | ('Data Analytics'.upper() in t.upper()):\n",
    "        return 'Data Analyst'.title()\n",
    "    elif ('Data Science'.upper() in t.upper()) | ('Data Scientist'.upper() in t.upper()):\n",
    "        return 'Data Science'.title()\n",
    "    elif ('Machine Learning'.upper() in t.upper()) | ('ML'.upper() in t.upper()):\n",
    "        return 'Machine Learning'.title()\n",
    "    elif ('AI'.upper() in t.upper()) | ('Artificial Intelligence'.upper() in t.upper()):\n",
    "        return 'Artificial Intelligence'\n",
    "    else:\n",
    "        return t\n",
    "\n",
    "data['New Job Title'] = data['Job Title'].apply(lambda x:getSubTitleJob(x))"
   ]
  },
  {
   "cell_type": "code",
   "execution_count": 35,
   "metadata": {},
   "outputs": [],
   "source": [
    "#Export data cleaned to csv\n",
    "data.to_csv('data/cleaned_jobs.csv')"
   ]
  },
  {
   "cell_type": "markdown",
   "metadata": {},
   "source": [
    "<h4>Analyse and visualization</h4>"
   ]
  },
  {
   "cell_type": "code",
   "execution_count": 36,
   "metadata": {},
   "outputs": [],
   "source": [
    "data = pd.read_csv('data/cleaned_jobs.csv',index_col=0)"
   ]
  },
  {
   "cell_type": "code",
   "execution_count": 37,
   "metadata": {},
   "outputs": [
    {
     "data": {
      "text/html": [
       "\n",
       "  <div id=\"ababc6a9-9a0a-4991-b40b-9fda8f1376ff\" data-root-id=\"p1235\" style=\"display: contents;\"></div>\n"
      ]
     },
     "metadata": {},
     "output_type": "display_data"
    },
    {
     "data": {
      "application/javascript": "(function(root) {\n  function embed_document(root) {\n  const docs_json = {\"46e1447b-bb0f-43cb-b8fc-67ac17b1fab7\":{\"version\":\"3.2.0\",\"title\":\"Bokeh Application\",\"roots\":[{\"type\":\"object\",\"name\":\"Figure\",\"id\":\"p1235\",\"attributes\":{\"x_range\":{\"type\":\"object\",\"name\":\"Range1d\",\"id\":\"p1245\",\"attributes\":{\"end\":617}},\"y_range\":{\"type\":\"object\",\"name\":\"FactorRange\",\"id\":\"p1246\",\"attributes\":{\"factors\":[\"Portugal\",\"Brazil\",\"Australia\",\"Poland\",\"Germany\",\"Canada\",\"France\",\"United Kingdom\",\"India\",\"United States\"]}},\"x_scale\":{\"type\":\"object\",\"name\":\"LinearScale\",\"id\":\"p1247\"},\"y_scale\":{\"type\":\"object\",\"name\":\"CategoricalScale\",\"id\":\"p1248\"},\"title\":{\"type\":\"object\",\"name\":\"Title\",\"id\":\"p1238\"},\"renderers\":[{\"type\":\"object\",\"name\":\"GlyphRenderer\",\"id\":\"p1269\",\"attributes\":{\"data_source\":{\"type\":\"object\",\"name\":\"ColumnDataSource\",\"id\":\"p1260\",\"attributes\":{\"selected\":{\"type\":\"object\",\"name\":\"Selection\",\"id\":\"p1261\",\"attributes\":{\"indices\":[],\"line_indices\":[]}},\"selection_policy\":{\"type\":\"object\",\"name\":\"UnionRenderers\",\"id\":\"p1262\"},\"data\":{\"type\":\"map\",\"entries\":[[\"index\",{\"type\":\"ndarray\",\"array\":{\"type\":\"bytes\",\"data\":\"CQAAAAgAAAAHAAAABgAAAAUAAAAEAAAAAwAAAAIAAAABAAAAAAAAAA==\"},\"shape\":[10],\"dtype\":\"int32\",\"order\":\"little\"}],[\"country\",{\"type\":\"ndarray\",\"array\":[\"Portugal\",\"Brazil\",\"Australia\",\"Poland\",\"Germany\",\"Canada\",\"France\",\"United Kingdom\",\"India\",\"United States\"],\"shape\":[10],\"dtype\":\"object\",\"order\":\"little\"}],[\"counts\",{\"type\":\"ndarray\",\"array\":{\"type\":\"bytes\",\"data\":\"KwAAAC0AAAAwAAAAMQAAAGAAAABxAAAAfAAAAMEAAADXAAAAaQIAAA==\"},\"shape\":[10],\"dtype\":\"int32\",\"order\":\"little\"}]]}}},\"view\":{\"type\":\"object\",\"name\":\"CDSView\",\"id\":\"p1270\",\"attributes\":{\"filter\":{\"type\":\"object\",\"name\":\"AllIndices\",\"id\":\"p1271\"}}},\"glyph\":{\"type\":\"object\",\"name\":\"HBar\",\"id\":\"p1266\",\"attributes\":{\"y\":{\"type\":\"field\",\"field\":\"country\"},\"height\":{\"type\":\"value\",\"value\":0.9},\"right\":{\"type\":\"field\",\"field\":\"counts\"},\"line_color\":{\"type\":\"value\",\"value\":\"#1f77b4\"},\"fill_color\":{\"type\":\"value\",\"value\":\"#1f77b4\"}}},\"nonselection_glyph\":{\"type\":\"object\",\"name\":\"HBar\",\"id\":\"p1267\",\"attributes\":{\"y\":{\"type\":\"field\",\"field\":\"country\"},\"height\":{\"type\":\"value\",\"value\":0.9},\"right\":{\"type\":\"field\",\"field\":\"counts\"},\"line_color\":{\"type\":\"value\",\"value\":\"#1f77b4\"},\"line_alpha\":{\"type\":\"value\",\"value\":0.1},\"fill_color\":{\"type\":\"value\",\"value\":\"#1f77b4\"},\"fill_alpha\":{\"type\":\"value\",\"value\":0.1},\"hatch_alpha\":{\"type\":\"value\",\"value\":0.1}}},\"muted_glyph\":{\"type\":\"object\",\"name\":\"HBar\",\"id\":\"p1268\",\"attributes\":{\"y\":{\"type\":\"field\",\"field\":\"country\"},\"height\":{\"type\":\"value\",\"value\":0.9},\"right\":{\"type\":\"field\",\"field\":\"counts\"},\"line_color\":{\"type\":\"value\",\"value\":\"#1f77b4\"},\"line_alpha\":{\"type\":\"value\",\"value\":0.2},\"fill_color\":{\"type\":\"value\",\"value\":\"#1f77b4\"},\"fill_alpha\":{\"type\":\"value\",\"value\":0.2},\"hatch_alpha\":{\"type\":\"value\",\"value\":0.2}}}}}],\"toolbar\":{\"type\":\"object\",\"name\":\"Toolbar\",\"id\":\"p1244\",\"attributes\":{\"tools\":[{\"type\":\"object\",\"name\":\"HoverTool\",\"id\":\"p1259\",\"attributes\":{\"renderers\":\"auto\",\"tooltips\":\"Opportunit\\u00e9s : @counts\"}}]}},\"left\":[{\"type\":\"object\",\"name\":\"CategoricalAxis\",\"id\":\"p1254\",\"attributes\":{\"ticker\":{\"type\":\"object\",\"name\":\"CategoricalTicker\",\"id\":\"p1255\"},\"formatter\":{\"type\":\"object\",\"name\":\"CategoricalTickFormatter\",\"id\":\"p1256\"},\"major_label_policy\":{\"type\":\"object\",\"name\":\"AllLabels\",\"id\":\"p1257\"}}}],\"below\":[{\"type\":\"object\",\"name\":\"LinearAxis\",\"id\":\"p1249\",\"attributes\":{\"ticker\":{\"type\":\"object\",\"name\":\"BasicTicker\",\"id\":\"p1250\",\"attributes\":{\"mantissas\":[1,2,5]}},\"formatter\":{\"type\":\"object\",\"name\":\"BasicTickFormatter\",\"id\":\"p1251\"},\"major_label_policy\":{\"type\":\"object\",\"name\":\"AllLabels\",\"id\":\"p1252\"}}}],\"center\":[{\"type\":\"object\",\"name\":\"Grid\",\"id\":\"p1253\",\"attributes\":{\"axis\":{\"id\":\"p1249\"}}},{\"type\":\"object\",\"name\":\"Grid\",\"id\":\"p1258\",\"attributes\":{\"dimension\":1,\"axis\":{\"id\":\"p1254\"}}}]}}]}};\n  const render_items = [{\"docid\":\"46e1447b-bb0f-43cb-b8fc-67ac17b1fab7\",\"roots\":{\"p1235\":\"ababc6a9-9a0a-4991-b40b-9fda8f1376ff\"},\"root_ids\":[\"p1235\"]}];\n  root.Bokeh.embed.embed_items_notebook(docs_json, render_items);\n  }\n  if (root.Bokeh !== undefined) {\n    embed_document(root);\n  } else {\n    let attempts = 0;\n    const timer = setInterval(function(root) {\n      if (root.Bokeh !== undefined) {\n        clearInterval(timer);\n        embed_document(root);\n      } else {\n        attempts++;\n        if (attempts > 100) {\n          clearInterval(timer);\n          console.log(\"Bokeh: ERROR: Unable to run BokehJS code because BokehJS library is missing\");\n        }\n      }\n    }, 10, root)\n  }\n})(window);",
      "application/vnd.bokehjs_exec.v0+json": ""
     },
     "metadata": {
      "application/vnd.bokehjs_exec.v0+json": {
       "id": "p1235"
      }
     },
     "output_type": "display_data"
    }
   ],
   "source": [
    "#Opportunities by country\n",
    "d = data.loc[data['country'] != 'Not found'].groupby('country')['country'].count().sort_values(ascending=False).head(10).reset_index(name='counts').sort_values(by='counts',ascending=True)\n",
    "\n",
    "#create bars\n",
    "p = figure(y_range=d['country'],x_range=(0,max(d['counts'])),title=f'',tools='hover',tooltips='Opportunités : @counts')\n",
    "p.hbar(y='country',right='counts',height=0.90,source=d)\n",
    "show(p)"
   ]
  },
  {
   "cell_type": "code",
   "execution_count": 38,
   "metadata": {},
   "outputs": [
    {
     "data": {
      "text/html": [
       "\n",
       "  <div id=\"f487b092-7c1f-450a-b40b-3e04486b80aa\" data-root-id=\"p1274\" style=\"display: contents;\"></div>\n"
      ]
     },
     "metadata": {},
     "output_type": "display_data"
    },
    {
     "data": {
      "application/javascript": "(function(root) {\n  function embed_document(root) {\n  const docs_json = {\"0e53040e-a906-4225-8e12-ba95915b7c1a\":{\"version\":\"3.2.0\",\"title\":\"Bokeh Application\",\"roots\":[{\"type\":\"object\",\"name\":\"Figure\",\"id\":\"p1274\",\"attributes\":{\"x_range\":{\"type\":\"object\",\"name\":\"FactorRange\",\"id\":\"p1284\",\"attributes\":{\"factors\":[\"Publicis Groupe\",\"Bosch Group\",\"Amazon.com\",\"Block\",\"Visa\",\"Verisk\",\"NielsenIQ\",\"Experian\",\"Databricks\",\"ServiceNow\",\"Sia Partners\",\"dentsu international\",\"Talan\",\"Sertis\",\"Riverside Research\",\"Etsy\",\"AUTO1 Group\",\"Roblox\",\"Western Digital\",\"Palo Alto Networks\",\"Standard Bank Group\",\"TripAdvisor\",\"Stripe\",\"Flagship Pioneering, Inc.\",\"Sportradar\",\"84.51\\u00b0\",\"PA Consulting\",\"Agoda\",\"NBCUniversal\",\"Locus Robotics\",\"Eurofins\",\"Zscaler\",\"M\\u00e9thode Srl\",\"Adevinta\",\"PlayStation Global\",\"Believe\",\"Syngenta Group\",\"PSI CRO\",\"CGG\",\"Allegro\",\"Version 1\",\"Cruise LLC\",\"Scale AI\",\"Farfetch\",\"Tiger Analytics\",\"insightsoftware\",\"Roosh\",\"Unit4\",\"Vattenfall\",\"Wolt\"]}},\"y_range\":{\"type\":\"object\",\"name\":\"Range1d\",\"id\":\"p1285\",\"attributes\":{\"end\":112}},\"x_scale\":{\"type\":\"object\",\"name\":\"CategoricalScale\",\"id\":\"p1286\"},\"y_scale\":{\"type\":\"object\",\"name\":\"LinearScale\",\"id\":\"p1287\"},\"title\":{\"type\":\"object\",\"name\":\"Title\",\"id\":\"p1277\"},\"renderers\":[{\"type\":\"object\",\"name\":\"GlyphRenderer\",\"id\":\"p1308\",\"attributes\":{\"data_source\":{\"type\":\"object\",\"name\":\"ColumnDataSource\",\"id\":\"p1299\",\"attributes\":{\"selected\":{\"type\":\"object\",\"name\":\"Selection\",\"id\":\"p1300\",\"attributes\":{\"indices\":[],\"line_indices\":[]}},\"selection_policy\":{\"type\":\"object\",\"name\":\"UnionRenderers\",\"id\":\"p1301\"},\"data\":{\"type\":\"map\",\"entries\":[[\"index\",{\"type\":\"ndarray\",\"array\":{\"type\":\"bytes\",\"data\":\"AAAAAAEAAAACAAAAAwAAAAQAAAAFAAAABgAAAAcAAAAIAAAACQAAAAoAAAALAAAADAAAAA0AAAAOAAAADwAAABAAAAARAAAAEgAAABMAAAAUAAAAFQAAABYAAAAXAAAAGAAAABkAAAAaAAAAGwAAABwAAAAdAAAAHgAAAB8AAAAgAAAAIQAAACIAAAAjAAAAJAAAACUAAAAmAAAAJwAAACgAAAApAAAAKgAAACsAAAAsAAAALQAAAC4AAAAvAAAAMAAAADEAAAA=\"},\"shape\":[50],\"dtype\":\"int32\",\"order\":\"little\"}],[\"Company\",{\"type\":\"ndarray\",\"array\":[\"Publicis Groupe\",\"Bosch Group\",\"Amazon.com\",\"Block\",\"Visa\",\"Verisk\",\"NielsenIQ\",\"Experian\",\"Databricks\",\"ServiceNow\",\"Sia Partners\",\"dentsu international\",\"Talan\",\"Sertis\",\"Riverside Research\",\"Etsy\",\"AUTO1 Group\",\"Roblox\",\"Western Digital\",\"Palo Alto Networks\",\"Standard Bank Group\",\"TripAdvisor\",\"Stripe\",\"Flagship Pioneering, Inc.\",\"Sportradar\",\"84.51\\u00b0\",\"PA Consulting\",\"Agoda\",\"NBCUniversal\",\"Locus Robotics\",\"Eurofins\",\"Zscaler\",\"M\\u00e9thode Srl\",\"Adevinta\",\"PlayStation Global\",\"Believe\",\"Syngenta Group\",\"PSI CRO\",\"CGG\",\"Allegro\",\"Version 1\",\"Cruise LLC\",\"Scale AI\",\"Farfetch\",\"Tiger Analytics\",\"insightsoftware\",\"Roosh\",\"Unit4\",\"Vattenfall\",\"Wolt\"],\"shape\":[50],\"dtype\":\"object\",\"order\":\"little\"}],[\"counts\",{\"type\":\"ndarray\",\"array\":{\"type\":\"bytes\",\"data\":\"cAAAAFcAAAA5AAAALwAAACoAAAAfAAAAHwAAABoAAAAXAAAAFQAAABUAAAATAAAAEwAAABMAAAARAAAAEAAAAA8AAAAPAAAADwAAAA4AAAAOAAAADgAAAA0AAAANAAAADQAAAAwAAAAMAAAADAAAAAwAAAALAAAACwAAAAsAAAALAAAACwAAAAoAAAAKAAAACgAAAAkAAAAJAAAACQAAAAkAAAAJAAAACQAAAAkAAAAJAAAACAAAAAgAAAAIAAAACAAAAAgAAAA=\"},\"shape\":[50],\"dtype\":\"int32\",\"order\":\"little\"}]]}}},\"view\":{\"type\":\"object\",\"name\":\"CDSView\",\"id\":\"p1309\",\"attributes\":{\"filter\":{\"type\":\"object\",\"name\":\"AllIndices\",\"id\":\"p1310\"}}},\"glyph\":{\"type\":\"object\",\"name\":\"VBar\",\"id\":\"p1305\",\"attributes\":{\"x\":{\"type\":\"field\",\"field\":\"Company\"},\"width\":{\"type\":\"value\",\"value\":0.9},\"top\":{\"type\":\"field\",\"field\":\"counts\"},\"line_color\":{\"type\":\"value\",\"value\":\"#1f77b4\"},\"fill_color\":{\"type\":\"value\",\"value\":\"#1f77b4\"}}},\"nonselection_glyph\":{\"type\":\"object\",\"name\":\"VBar\",\"id\":\"p1306\",\"attributes\":{\"x\":{\"type\":\"field\",\"field\":\"Company\"},\"width\":{\"type\":\"value\",\"value\":0.9},\"top\":{\"type\":\"field\",\"field\":\"counts\"},\"line_color\":{\"type\":\"value\",\"value\":\"#1f77b4\"},\"line_alpha\":{\"type\":\"value\",\"value\":0.1},\"fill_color\":{\"type\":\"value\",\"value\":\"#1f77b4\"},\"fill_alpha\":{\"type\":\"value\",\"value\":0.1},\"hatch_alpha\":{\"type\":\"value\",\"value\":0.1}}},\"muted_glyph\":{\"type\":\"object\",\"name\":\"VBar\",\"id\":\"p1307\",\"attributes\":{\"x\":{\"type\":\"field\",\"field\":\"Company\"},\"width\":{\"type\":\"value\",\"value\":0.9},\"top\":{\"type\":\"field\",\"field\":\"counts\"},\"line_color\":{\"type\":\"value\",\"value\":\"#1f77b4\"},\"line_alpha\":{\"type\":\"value\",\"value\":0.2},\"fill_color\":{\"type\":\"value\",\"value\":\"#1f77b4\"},\"fill_alpha\":{\"type\":\"value\",\"value\":0.2},\"hatch_alpha\":{\"type\":\"value\",\"value\":0.2}}}}}],\"toolbar\":{\"type\":\"object\",\"name\":\"Toolbar\",\"id\":\"p1283\",\"attributes\":{\"tools\":[{\"type\":\"object\",\"name\":\"HoverTool\",\"id\":\"p1298\",\"attributes\":{\"renderers\":\"auto\",\"tooltips\":\"Company : @Company - Opportunit\\u00e9s : @counts\"}}]}},\"left\":[{\"type\":\"object\",\"name\":\"LinearAxis\",\"id\":\"p1293\",\"attributes\":{\"ticker\":{\"type\":\"object\",\"name\":\"BasicTicker\",\"id\":\"p1294\",\"attributes\":{\"mantissas\":[1,2,5]}},\"formatter\":{\"type\":\"object\",\"name\":\"BasicTickFormatter\",\"id\":\"p1295\"},\"major_label_policy\":{\"type\":\"object\",\"name\":\"AllLabels\",\"id\":\"p1296\"}}}],\"below\":[{\"type\":\"object\",\"name\":\"CategoricalAxis\",\"id\":\"p1288\",\"attributes\":{\"ticker\":{\"type\":\"object\",\"name\":\"CategoricalTicker\",\"id\":\"p1289\"},\"formatter\":{\"type\":\"object\",\"name\":\"CategoricalTickFormatter\",\"id\":\"p1290\"},\"major_label_orientation\":-1.3333333333333333,\"major_label_policy\":{\"type\":\"object\",\"name\":\"AllLabels\",\"id\":\"p1291\"}}}],\"center\":[{\"type\":\"object\",\"name\":\"Grid\",\"id\":\"p1292\",\"attributes\":{\"axis\":{\"id\":\"p1288\"}}},{\"type\":\"object\",\"name\":\"Grid\",\"id\":\"p1297\",\"attributes\":{\"dimension\":1,\"axis\":{\"id\":\"p1293\"}}}]}}]}};\n  const render_items = [{\"docid\":\"0e53040e-a906-4225-8e12-ba95915b7c1a\",\"roots\":{\"p1274\":\"f487b092-7c1f-450a-b40b-3e04486b80aa\"},\"root_ids\":[\"p1274\"]}];\n  root.Bokeh.embed.embed_items_notebook(docs_json, render_items);\n  }\n  if (root.Bokeh !== undefined) {\n    embed_document(root);\n  } else {\n    let attempts = 0;\n    const timer = setInterval(function(root) {\n      if (root.Bokeh !== undefined) {\n        clearInterval(timer);\n        embed_document(root);\n      } else {\n        attempts++;\n        if (attempts > 100) {\n          clearInterval(timer);\n          console.log(\"Bokeh: ERROR: Unable to run BokehJS code because BokehJS library is missing\");\n        }\n      }\n    }, 10, root)\n  }\n})(window);",
      "application/vnd.bokehjs_exec.v0+json": ""
     },
     "metadata": {
      "application/vnd.bokehjs_exec.v0+json": {
       "id": "p1274"
      }
     },
     "output_type": "display_data"
    }
   ],
   "source": [
    "#Opportunities by companies\n",
    "d = data.groupby('Company')['Company'].count().sort_values(ascending=False).reset_index(name='counts').head(50)\n",
    "#create bars\n",
    "p = figure(x_range=d['Company'],y_range=(0,max(d['counts'])),title=f'',tools='hover',tooltips='Company : @Company - Opportunités : @counts')\n",
    "p.vbar(x='Company',top='counts',width=0.90,source=d)\n",
    "\n",
    "p.xaxis.major_label_orientation = 4/-3\n",
    "\n",
    "show(p)"
   ]
  },
  {
   "cell_type": "code",
   "execution_count": 39,
   "metadata": {},
   "outputs": [
    {
     "data": {
      "text/html": [
       "\n",
       "  <div id=\"dde48d24-c5af-47c3-ba0e-b03935f0b288\" data-root-id=\"p1313\" style=\"display: contents;\"></div>\n"
      ]
     },
     "metadata": {},
     "output_type": "display_data"
    },
    {
     "data": {
      "application/javascript": "(function(root) {\n  function embed_document(root) {\n  const docs_json = {\"dc8e1606-331f-4dd4-9e6e-4644d17c1103\":{\"version\":\"3.2.0\",\"title\":\"Bokeh Application\",\"roots\":[{\"type\":\"object\",\"name\":\"Figure\",\"id\":\"p1313\",\"attributes\":{\"x_range\":{\"type\":\"object\",\"name\":\"FactorRange\",\"id\":\"p1323\",\"attributes\":{\"factors\":[\"Data Engineer\",\"Data Analyst\",\"Data Science\",\"Machine Learning\",\"Business Intelligence\",\"Artificial Intelligence\",\"Analytics Engineer\",\"Senior Analytics Engineer\",\"Data Architect\",\"Research Scientist\"]}},\"y_range\":{\"type\":\"object\",\"name\":\"Range1d\",\"id\":\"p1324\",\"attributes\":{\"end\":536}},\"x_scale\":{\"type\":\"object\",\"name\":\"CategoricalScale\",\"id\":\"p1325\"},\"y_scale\":{\"type\":\"object\",\"name\":\"LinearScale\",\"id\":\"p1326\"},\"title\":{\"type\":\"object\",\"name\":\"Title\",\"id\":\"p1316\"},\"renderers\":[{\"type\":\"object\",\"name\":\"GlyphRenderer\",\"id\":\"p1347\",\"attributes\":{\"data_source\":{\"type\":\"object\",\"name\":\"ColumnDataSource\",\"id\":\"p1338\",\"attributes\":{\"selected\":{\"type\":\"object\",\"name\":\"Selection\",\"id\":\"p1339\",\"attributes\":{\"indices\":[],\"line_indices\":[]}},\"selection_policy\":{\"type\":\"object\",\"name\":\"UnionRenderers\",\"id\":\"p1340\"},\"data\":{\"type\":\"map\",\"entries\":[[\"index\",{\"type\":\"ndarray\",\"array\":{\"type\":\"bytes\",\"data\":\"AAAAAAEAAAACAAAAAwAAAAQAAAAFAAAABgAAAAcAAAAIAAAACQAAAA==\"},\"shape\":[10],\"dtype\":\"int32\",\"order\":\"little\"}],[\"Job_Title\",{\"type\":\"ndarray\",\"array\":[\"Data Engineer\",\"Data Analyst\",\"Data Science\",\"Machine Learning\",\"Business Intelligence\",\"Artificial Intelligence\",\"Analytics Engineer\",\"Senior Analytics Engineer\",\"Data Architect\",\"Research Scientist\"],\"shape\":[10],\"dtype\":\"object\",\"order\":\"little\"}],[\"counts\",{\"type\":\"ndarray\",\"array\":{\"type\":\"bytes\",\"data\":\"GAIAAPYBAADKAQAAdwEAAAsBAABvAAAAEAAAAAsAAAALAAAABwAAAA==\"},\"shape\":[10],\"dtype\":\"int32\",\"order\":\"little\"}]]}}},\"view\":{\"type\":\"object\",\"name\":\"CDSView\",\"id\":\"p1348\",\"attributes\":{\"filter\":{\"type\":\"object\",\"name\":\"AllIndices\",\"id\":\"p1349\"}}},\"glyph\":{\"type\":\"object\",\"name\":\"VBar\",\"id\":\"p1344\",\"attributes\":{\"x\":{\"type\":\"field\",\"field\":\"Job_Title\"},\"width\":{\"type\":\"value\",\"value\":0.9},\"top\":{\"type\":\"field\",\"field\":\"counts\"},\"line_color\":{\"type\":\"value\",\"value\":\"#1f77b4\"},\"fill_color\":{\"type\":\"value\",\"value\":\"#1f77b4\"}}},\"nonselection_glyph\":{\"type\":\"object\",\"name\":\"VBar\",\"id\":\"p1345\",\"attributes\":{\"x\":{\"type\":\"field\",\"field\":\"Job_Title\"},\"width\":{\"type\":\"value\",\"value\":0.9},\"top\":{\"type\":\"field\",\"field\":\"counts\"},\"line_color\":{\"type\":\"value\",\"value\":\"#1f77b4\"},\"line_alpha\":{\"type\":\"value\",\"value\":0.1},\"fill_color\":{\"type\":\"value\",\"value\":\"#1f77b4\"},\"fill_alpha\":{\"type\":\"value\",\"value\":0.1},\"hatch_alpha\":{\"type\":\"value\",\"value\":0.1}}},\"muted_glyph\":{\"type\":\"object\",\"name\":\"VBar\",\"id\":\"p1346\",\"attributes\":{\"x\":{\"type\":\"field\",\"field\":\"Job_Title\"},\"width\":{\"type\":\"value\",\"value\":0.9},\"top\":{\"type\":\"field\",\"field\":\"counts\"},\"line_color\":{\"type\":\"value\",\"value\":\"#1f77b4\"},\"line_alpha\":{\"type\":\"value\",\"value\":0.2},\"fill_color\":{\"type\":\"value\",\"value\":\"#1f77b4\"},\"fill_alpha\":{\"type\":\"value\",\"value\":0.2},\"hatch_alpha\":{\"type\":\"value\",\"value\":0.2}}}}}],\"toolbar\":{\"type\":\"object\",\"name\":\"Toolbar\",\"id\":\"p1322\",\"attributes\":{\"tools\":[{\"type\":\"object\",\"name\":\"HoverTool\",\"id\":\"p1337\",\"attributes\":{\"renderers\":\"auto\",\"tooltips\":\"Job Title : @Job_Title - Opportunit\\u00e9s : @counts\"}}]}},\"left\":[{\"type\":\"object\",\"name\":\"LinearAxis\",\"id\":\"p1332\",\"attributes\":{\"ticker\":{\"type\":\"object\",\"name\":\"BasicTicker\",\"id\":\"p1333\",\"attributes\":{\"mantissas\":[1,2,5]}},\"formatter\":{\"type\":\"object\",\"name\":\"BasicTickFormatter\",\"id\":\"p1334\"},\"major_label_policy\":{\"type\":\"object\",\"name\":\"AllLabels\",\"id\":\"p1335\"}}}],\"below\":[{\"type\":\"object\",\"name\":\"CategoricalAxis\",\"id\":\"p1327\",\"attributes\":{\"ticker\":{\"type\":\"object\",\"name\":\"CategoricalTicker\",\"id\":\"p1328\"},\"formatter\":{\"type\":\"object\",\"name\":\"CategoricalTickFormatter\",\"id\":\"p1329\"},\"major_label_orientation\":-1.3333333333333333,\"major_label_policy\":{\"type\":\"object\",\"name\":\"AllLabels\",\"id\":\"p1330\"}}}],\"center\":[{\"type\":\"object\",\"name\":\"Grid\",\"id\":\"p1331\",\"attributes\":{\"axis\":{\"id\":\"p1327\"}}},{\"type\":\"object\",\"name\":\"Grid\",\"id\":\"p1336\",\"attributes\":{\"dimension\":1,\"axis\":{\"id\":\"p1332\"}}}]}}]}};\n  const render_items = [{\"docid\":\"dc8e1606-331f-4dd4-9e6e-4644d17c1103\",\"roots\":{\"p1313\":\"dde48d24-c5af-47c3-ba0e-b03935f0b288\"},\"root_ids\":[\"p1313\"]}];\n  root.Bokeh.embed.embed_items_notebook(docs_json, render_items);\n  }\n  if (root.Bokeh !== undefined) {\n    embed_document(root);\n  } else {\n    let attempts = 0;\n    const timer = setInterval(function(root) {\n      if (root.Bokeh !== undefined) {\n        clearInterval(timer);\n        embed_document(root);\n      } else {\n        attempts++;\n        if (attempts > 100) {\n          clearInterval(timer);\n          console.log(\"Bokeh: ERROR: Unable to run BokehJS code because BokehJS library is missing\");\n        }\n      }\n    }, 10, root)\n  }\n})(window);",
      "application/vnd.bokehjs_exec.v0+json": ""
     },
     "metadata": {
      "application/vnd.bokehjs_exec.v0+json": {
       "id": "p1313"
      }
     },
     "output_type": "display_data"
    }
   ],
   "source": [
    "#Job title more required\n",
    "d = data.groupby('New Job Title')['New Job Title'].count().sort_values(ascending=False).reset_index(name='counts').rename(columns={'New Job Title':'Job_Title'}).head(10)\n",
    "\n",
    "p = figure(x_range=d['Job_Title'],y_range=(0,max(d['counts'])),title=f'',tools='hover',tooltips='Job Title : @Job_Title - Opportunités : @counts')\n",
    "p.vbar(x='Job_Title',top='counts',width=0.90,source=d)\n",
    "\n",
    "p.xaxis.major_label_orientation = 4/-3\n",
    "\n",
    "show(p)"
   ]
  },
  {
   "cell_type": "code",
   "execution_count": 40,
   "metadata": {},
   "outputs": [
    {
     "data": {
      "image/png": "[encoded data removed]",
      "text/plain": [
       "<Figure size 600x600 with 1 Axes>"
      ]
     },
     "metadata": {},
     "output_type": "display_data"
    }
   ],
   "source": [
    "\n",
    "#Counts of opportunities by Jop Typs\n",
    "d = data.groupby(by='Job Type')['Job Type'].count()\n",
    "\n",
    "dd = pd.DataFrame(d,index=['Full Time','Internship','Part Time'])\n",
    "\n",
    "dd.plot.pie(y='Job Type',autopct=\"%.2f%%\", colors=Accent6,figsize=(6, 6))\n",
    "\n",
    "plt.show()"
   ]
  },
  {
   "cell_type": "code",
   "execution_count": 41,
   "metadata": {},
   "outputs": [
    {
     "data": {
      "image/png": "[encoded data removed]",
      "text/plain": [
       "<Figure size 600x600 with 1 Axes>"
      ]
     },
     "metadata": {},
     "output_type": "display_data"
    }
   ],
   "source": [
    "#Counts of opportunities by experience level\n",
    "d = data.groupby('Experience level')['Experience level'].count()\n",
    "\n",
    "dd = pd.DataFrame(d,index=['Entry-level','Executive-level','Mid-level','No specific','Senior-level'])\n",
    "\n",
    "dd.plot.pie(y='Experience level',autopct=\"%.2f%%\", colors=Blues5,figsize=(6, 6))\n",
    "\n",
    "plt.show()"
   ]
  },
  {
   "cell_type": "code",
   "execution_count": 42,
   "metadata": {},
   "outputs": [
    {
     "data": {
      "text/html": [
       "\n",
       "  <div id=\"b48f073a-db91-4d9e-9539-7c9399043f80\" data-root-id=\"p1352\" style=\"display: contents;\"></div>\n"
      ]
     },
     "metadata": {},
     "output_type": "display_data"
    },
    {
     "data": {
      "application/javascript": "(function(root) {\n  function embed_document(root) {\n  const docs_json = {\"59a6efa0-7a8d-40ce-bf5b-d47a181edee8\":{\"version\":\"3.2.0\",\"title\":\"Bokeh Application\",\"roots\":[{\"type\":\"object\",\"name\":\"Figure\",\"id\":\"p1352\",\"attributes\":{\"x_range\":{\"type\":\"object\",\"name\":\"FactorRange\",\"id\":\"p1362\",\"attributes\":{\"factors\":[\"Principal Engineer, Datacenter Software Systems\",\"Principal Deep Learning Engineer - Computer Vision\",\"Research Engineer, Privacy\",\"Senior Engineering Manager, Data Management\",\"Senior Staff Applied Research Scientist, Perception\",\"Staff Software Engineer - Streaming Data Pipelines\",\"Presales Data Architect - Streaming (Remote US)\",\"Sr. Data Integrations Engineer, IT Enterprise Applications\",\"Software Engineer \\u0096 Model Inference\",\"Software Engineer, Model Inference\",\"Sr. Principal Engineer - Data Architecture\",\"Senior Enterprise Architect, Data Quality\",\"Staff Software Engineer, Data Platform\",\"Principal Engineer, Data and Control Systems\",\"Principal Engineer, Data Systems\",\"Staff Software Engineer, Database Infrastructure\",\"Senior Software Engineer - Data Infrastructure\",\"Sr Staff Applied Research Scientist - ATG Core LLM Team\",\"Senior Applied Scientist II\",\"Staff Applied Scientist (Open to remote across ANZ)\",\"Senior Applied Scientist\",\"Senior Applied Scientist - Document Intelligence\",\"Senior Applied Scientist II, Market Optimization\",\"Principal Applied Scientist\",\"Staff Engineer, Data Infrastructure\",\"Software Engineer - Autonomy Metrics\",\"Senior Software Engineer, Computer Vision\",\"Senior Product Manager | API & Data Products\",\"Staff Product Manager, Data Pipelines\",\"Senior Software Engineer, Data Lake\",\"Senior Autonomy Integration Engineer - Commercialization Team\",\"Economist, Pricing and Causal Inference\",\"Sr. Cloud Engineer, Data Team\",\"Senior Applied Scientist I\",\"Senior Staff Software Engineer, Data Storage\",\"Senior Applied Research Scientist II, Perception\",\"Staff Software Engineer, Data Storage\",\"Staff Applied Research Scientist\",\"Sr Data Product Manager - Trading Experience\",\"Sr. Software Engineer, Data (Starshield)\"]}},\"y_range\":{\"type\":\"object\",\"name\":\"Range1d\",\"id\":\"p1363\",\"attributes\":{\"end\":283000.0}},\"x_scale\":{\"type\":\"object\",\"name\":\"CategoricalScale\",\"id\":\"p1364\"},\"y_scale\":{\"type\":\"object\",\"name\":\"LinearScale\",\"id\":\"p1365\"},\"title\":{\"type\":\"object\",\"name\":\"Title\",\"id\":\"p1355\",\"attributes\":{\"text\":\"Salaire le plus \\u00e9lev\\u00e9 par titre de poste\"}},\"renderers\":[{\"type\":\"object\",\"name\":\"GlyphRenderer\",\"id\":\"p1386\",\"attributes\":{\"data_source\":{\"type\":\"object\",\"name\":\"ColumnDataSource\",\"id\":\"p1377\",\"attributes\":{\"selected\":{\"type\":\"object\",\"name\":\"Selection\",\"id\":\"p1378\",\"attributes\":{\"indices\":[],\"line_indices\":[]}},\"selection_policy\":{\"type\":\"object\",\"name\":\"UnionRenderers\",\"id\":\"p1379\"},\"data\":{\"type\":\"map\",\"entries\":[[\"index\",{\"type\":\"ndarray\",\"array\":{\"type\":\"bytes\",\"data\":\"AAAAAAEAAAACAAAAAwAAAAQAAAAFAAAABgAAAAcAAAAIAAAACQAAAAoAAAALAAAADAAAAA0AAAAOAAAADwAAABAAAAARAAAAEgAAABMAAAAUAAAAFQAAABYAAAAXAAAAGAAAABkAAAAaAAAAGwAAABwAAAAdAAAAHgAAAB8AAAAgAAAAIQAAACIAAAAjAAAAJAAAACUAAAAmAAAAJwAAAA==\"},\"shape\":[40],\"dtype\":\"int32\",\"order\":\"little\"}],[\"Job_Title\",{\"type\":\"ndarray\",\"array\":[\"Principal Engineer, Datacenter Software Systems\",\"Principal Deep Learning Engineer - Computer Vision\",\"Research Engineer, Privacy\",\"Senior Engineering Manager, Data Management\",\"Senior Staff Applied Research Scientist, Perception\",\"Staff Software Engineer - Streaming Data Pipelines\",\"Presales Data Architect - Streaming (Remote US)\",\"Sr. Data Integrations Engineer, IT Enterprise Applications\",\"Software Engineer \\u0096 Model Inference\",\"Software Engineer, Model Inference\",\"Sr. Principal Engineer - Data Architecture\",\"Senior Enterprise Architect, Data Quality\",\"Staff Software Engineer, Data Platform\",\"Principal Engineer, Data and Control Systems\",\"Principal Engineer, Data Systems\",\"Staff Software Engineer, Database Infrastructure\",\"Senior Software Engineer - Data Infrastructure\",\"Sr Staff Applied Research Scientist - ATG Core LLM Team\",\"Senior Applied Scientist II\",\"Staff Applied Scientist (Open to remote across ANZ)\",\"Senior Applied Scientist\",\"Senior Applied Scientist - Document Intelligence\",\"Senior Applied Scientist II, Market Optimization\",\"Principal Applied Scientist\",\"Staff Engineer, Data Infrastructure\",\"Software Engineer - Autonomy Metrics\",\"Senior Software Engineer, Computer Vision\",\"Senior Product Manager | API & Data Products\",\"Staff Product Manager, Data Pipelines\",\"Senior Software Engineer, Data Lake\",\"Senior Autonomy Integration Engineer - Commercialization Team\",\"Economist, Pricing and Causal Inference\",\"Sr. Cloud Engineer, Data Team\",\"Senior Applied Scientist I\",\"Senior Staff Software Engineer, Data Storage\",\"Senior Applied Research Scientist II, Perception\",\"Staff Software Engineer, Data Storage\",\"Staff Applied Research Scientist\",\"Sr Data Product Manager - Trading Experience\",\"Sr. Software Engineer, Data (Starshield)\"],\"shape\":[40],\"dtype\":\"object\",\"order\":\"little\"}],[\"AVG\",{\"type\":\"ndarray\",\"array\":{\"type\":\"bytes\",\"data\":\"AAAAAOBFEUEAAAAA4EURQQAAAABA6A1BAAAAAMCvDEEAAAAAgJAMQQAAAACAHwpBAAAAAADnCEEAAAAAgKgIQQAAAAAAaghBAAAAAABqCEEAAAAAwEoIQQAAAAAA7QdBAAAAAMDNB0EAAAAAgDEHQQAAAACAMQdBAAAAAEASB0EAAAAAwNMGQQAAAAAAdgZBAAAAAAB2BkEAAAAAAHYGQQAAAAAAdgZBAAAAAAB2BkEAAAAAAHYGQQAAAAAAdgZBAAAAAAD5BUEAAAAAwNkFQQAAAADAXAVBAAAAAIA9BUEAAAAAAP8EQQAAAACAwARBAAAAAACCBEEAAAAAwGIEQQAAAACAQwRBAAAAAAAFBEEAAAAAwOUDQQAAAADA5QNBAAAAAMDlA0EAAAAAAIgDQQAAAAAAiANBAAAAAACIA0E=\"},\"shape\":[40],\"dtype\":\"float64\",\"order\":\"little\"}]]}}},\"view\":{\"type\":\"object\",\"name\":\"CDSView\",\"id\":\"p1387\",\"attributes\":{\"filter\":{\"type\":\"object\",\"name\":\"AllIndices\",\"id\":\"p1388\"}}},\"glyph\":{\"type\":\"object\",\"name\":\"VBar\",\"id\":\"p1383\",\"attributes\":{\"x\":{\"type\":\"field\",\"field\":\"Job_Title\"},\"width\":{\"type\":\"value\",\"value\":0.9},\"top\":{\"type\":\"field\",\"field\":\"AVG\"},\"line_color\":{\"type\":\"value\",\"value\":\"#1f77b4\"},\"fill_color\":{\"type\":\"value\",\"value\":\"#1f77b4\"}}},\"nonselection_glyph\":{\"type\":\"object\",\"name\":\"VBar\",\"id\":\"p1384\",\"attributes\":{\"x\":{\"type\":\"field\",\"field\":\"Job_Title\"},\"width\":{\"type\":\"value\",\"value\":0.9},\"top\":{\"type\":\"field\",\"field\":\"AVG\"},\"line_color\":{\"type\":\"value\",\"value\":\"#1f77b4\"},\"line_alpha\":{\"type\":\"value\",\"value\":0.1},\"fill_color\":{\"type\":\"value\",\"value\":\"#1f77b4\"},\"fill_alpha\":{\"type\":\"value\",\"value\":0.1},\"hatch_alpha\":{\"type\":\"value\",\"value\":0.1}}},\"muted_glyph\":{\"type\":\"object\",\"name\":\"VBar\",\"id\":\"p1385\",\"attributes\":{\"x\":{\"type\":\"field\",\"field\":\"Job_Title\"},\"width\":{\"type\":\"value\",\"value\":0.9},\"top\":{\"type\":\"field\",\"field\":\"AVG\"},\"line_color\":{\"type\":\"value\",\"value\":\"#1f77b4\"},\"line_alpha\":{\"type\":\"value\",\"value\":0.2},\"fill_color\":{\"type\":\"value\",\"value\":\"#1f77b4\"},\"fill_alpha\":{\"type\":\"value\",\"value\":0.2},\"hatch_alpha\":{\"type\":\"value\",\"value\":0.2}}}}}],\"toolbar\":{\"type\":\"object\",\"name\":\"Toolbar\",\"id\":\"p1361\",\"attributes\":{\"tools\":[{\"type\":\"object\",\"name\":\"HoverTool\",\"id\":\"p1376\",\"attributes\":{\"renderers\":\"auto\",\"tooltips\":\"Job Title : @Job_Title - AVG Salary : @AVG USD\"}}]}},\"left\":[{\"type\":\"object\",\"name\":\"LinearAxis\",\"id\":\"p1371\",\"attributes\":{\"ticker\":{\"type\":\"object\",\"name\":\"BasicTicker\",\"id\":\"p1372\",\"attributes\":{\"mantissas\":[1,2,5]}},\"formatter\":{\"type\":\"object\",\"name\":\"BasicTickFormatter\",\"id\":\"p1373\"},\"major_label_policy\":{\"type\":\"object\",\"name\":\"AllLabels\",\"id\":\"p1374\"}}}],\"below\":[{\"type\":\"object\",\"name\":\"CategoricalAxis\",\"id\":\"p1366\",\"attributes\":{\"ticker\":{\"type\":\"object\",\"name\":\"CategoricalTicker\",\"id\":\"p1367\"},\"formatter\":{\"type\":\"object\",\"name\":\"CategoricalTickFormatter\",\"id\":\"p1368\"},\"major_label_orientation\":-1.5,\"major_label_policy\":{\"type\":\"object\",\"name\":\"AllLabels\",\"id\":\"p1369\"}}}],\"center\":[{\"type\":\"object\",\"name\":\"Grid\",\"id\":\"p1370\",\"attributes\":{\"axis\":{\"id\":\"p1366\"}}},{\"type\":\"object\",\"name\":\"Grid\",\"id\":\"p1375\",\"attributes\":{\"dimension\":1,\"axis\":{\"id\":\"p1371\"}}}]}}]}};\n  const render_items = [{\"docid\":\"59a6efa0-7a8d-40ce-bf5b-d47a181edee8\",\"roots\":{\"p1352\":\"b48f073a-db91-4d9e-9539-7c9399043f80\"},\"root_ids\":[\"p1352\"]}];\n  root.Bokeh.embed.embed_items_notebook(docs_json, render_items);\n  }\n  if (root.Bokeh !== undefined) {\n    embed_document(root);\n  } else {\n    let attempts = 0;\n    const timer = setInterval(function(root) {\n      if (root.Bokeh !== undefined) {\n        clearInterval(timer);\n        embed_document(root);\n      } else {\n        attempts++;\n        if (attempts > 100) {\n          clearInterval(timer);\n          console.log(\"Bokeh: ERROR: Unable to run BokehJS code because BokehJS library is missing\");\n        }\n      }\n    }, 10, root)\n  }\n})(window);",
      "application/vnd.bokehjs_exec.v0+json": ""
     },
     "metadata": {
      "application/vnd.bokehjs_exec.v0+json": {
       "id": "p1352"
      }
     },
     "output_type": "display_data"
    }
   ],
   "source": [
    "#Top salary by job title\n",
    "jobTitle = data.groupby('New Job Title')['Salary'].mean().sort_values(ascending=False).head(50).reset_index(name='AVG').head(40).rename(columns={'New Job Title':'Job_Title'})\n",
    "#data.groupby('Job Title')['Job Title'].count().sort_values(ascending=False).head(10)\n",
    "\n",
    "p = figure(x_range=jobTitle['Job_Title'],y_range=(0,max(jobTitle['AVG'])),title=f'Salaire le plus élevé par titre de poste',tools='hover',tooltips='Job Title : @Job_Title - AVG Salary : @AVG USD')\n",
    "p.vbar(x='Job_Title',top='AVG',width=0.90,source=jobTitle)\n",
    "\n",
    "p.xaxis.major_label_orientation = 4.5/-3\n",
    "\n",
    "show(p)"
   ]
  },
  {
   "cell_type": "code",
   "execution_count": 43,
   "metadata": {},
   "outputs": [],
   "source": [
    "#Requirment of the company\n",
    "requirments = []\n",
    "for index,row in data.iterrows():\n",
    "    requirments.extend(row['Requirment of the company '].split(','))\n",
    "\n",
    "requirments = pd.DataFrame(requirments)\n",
    "\n",
    "indexs = requirments.loc[requirments[0] == ''].index\n",
    "\n",
    "requirments.drop(index=indexs,inplace=True)\n",
    "\n",
    "\n",
    "dr = requirments.groupby([0])[0].count().sort_values(ascending=False).head(20)\n",
    "\n",
    "data_dr = dr.reset_index(name='counts')"
   ]
  },
  {
   "cell_type": "code",
   "execution_count": 44,
   "metadata": {},
   "outputs": [
    {
     "data": {
      "image/png": "[encoded data removed]",
      "text/plain": [
       "<Figure size 900x1300 with 1 Axes>"
      ]
     },
     "metadata": {},
     "output_type": "display_data"
    }
   ],
   "source": [
    "from bubble_chart import BubbleChart\n",
    "\n",
    "#random data\n",
    "data_dr_r = data_dr.sample(frac=1)\n",
    "\n",
    "bubble_chart = BubbleChart(area=data_dr_r['counts'],\n",
    "                           bubble_spacing=0.1)\n",
    "bubble_chart.collapse()\n",
    "\n",
    "fig, ax = plt.subplots(subplot_kw=dict(aspect=\"equal\"))\n",
    "fig.set_size_inches(9, 13, forward=True)\n",
    "bubble_chart.plot(\n",
    "    ax, data_dr_r[0],Category20c[20])\n",
    "ax.axis(\"off\")\n",
    "ax.relim()\n",
    "ax.autoscale_view()\n",
    "plt.show()"
   ]
  },
  {
   "cell_type": "markdown",
   "metadata": {},
   "source": [
    "<h1>L'insertion de données dans la base de données</h1>"
   ]
  },
  {
   "cell_type": "code",
   "execution_count": 45,
   "metadata": {},
   "outputs": [],
   "source": [
    "import pyodbc\n",
    "\n",
    "cnx = pyodbc.connect('Driver={SQL Server};'\n",
    "                      'Server=LAPTOP-B5O30HDH\\SQLEXPRESS;'\n",
    "                      'Database=oppodb;'\n",
    "                      'Trusted_Connection=yes;')"
   ]
  },
  {
   "cell_type": "code",
   "execution_count": 60,
   "metadata": {},
   "outputs": [
    {
     "data": {
      "text/html": [
       "<div>\n",
       "<style scoped>\n",
       "    .dataframe tbody tr th:only-of-type {\n",
       "        vertical-align: middle;\n",
       "    }\n",
       "\n",
       "    .dataframe tbody tr th {\n",
       "        vertical-align: top;\n",
       "    }\n",
       "\n",
       "    .dataframe thead th {\n",
       "        text-align: right;\n",
       "    }\n",
       "</style>\n",
       "<table border=\"1\" class=\"dataframe\">\n",
       "  <thead>\n",
       "    <tr style=\"text-align: right;\">\n",
       "      <th></th>\n",
       "      <th>Company</th>\n",
       "      <th>Job Title</th>\n",
       "      <th>Location</th>\n",
       "      <th>Job Type</th>\n",
       "      <th>Experience level</th>\n",
       "      <th>Salary</th>\n",
       "      <th>Requirment of the company</th>\n",
       "      <th>Facilities</th>\n",
       "      <th>country</th>\n",
       "      <th>New Job Title</th>\n",
       "      <th>id</th>\n",
       "    </tr>\n",
       "  </thead>\n",
       "  <tbody>\n",
       "    <tr>\n",
       "      <th>0</th>\n",
       "      <td>SGS</td>\n",
       "      <td>Clinical Data Analyst</td>\n",
       "      <td>Richardson, TX, United States</td>\n",
       "      <td>Full Time</td>\n",
       "      <td>Entry-level</td>\n",
       "      <td>48000</td>\n",
       "      <td>Computer Science,Data quality,Genetics,Mathema...</td>\n",
       "      <td>,,,,</td>\n",
       "      <td>United States</td>\n",
       "      <td>Data Analyst</td>\n",
       "      <td>1</td>\n",
       "    </tr>\n",
       "    <tr>\n",
       "      <th>1</th>\n",
       "      <td>Ocorian</td>\n",
       "      <td>AML/CFT &amp; Data Analyst</td>\n",
       "      <td>Ebène, Mauritius</td>\n",
       "      <td>Full Time</td>\n",
       "      <td>Entry-level</td>\n",
       "      <td>48000</td>\n",
       "      <td>Agile,Data management,Finance,Security,,</td>\n",
       "      <td>,,,,</td>\n",
       "      <td>Mauritius</td>\n",
       "      <td>Data Analyst</td>\n",
       "      <td>2</td>\n",
       "    </tr>\n",
       "    <tr>\n",
       "      <th>2</th>\n",
       "      <td>Cricut</td>\n",
       "      <td>Machine Learning Engineer</td>\n",
       "      <td>South Jordan, UT, United States</td>\n",
       "      <td>Full Time</td>\n",
       "      <td>No specific</td>\n",
       "      <td>90000</td>\n",
       "      <td>Agile,Architecture,AWS,Computer Science,Comput...</td>\n",
       "      <td>Career development,,,,</td>\n",
       "      <td>Jordan</td>\n",
       "      <td>Machine Learning</td>\n",
       "      <td>3</td>\n",
       "    </tr>\n",
       "    <tr>\n",
       "      <th>3</th>\n",
       "      <td>Bosch Group</td>\n",
       "      <td>Application Developer &amp; Data Analyst</td>\n",
       "      <td>Nonantola, Italy</td>\n",
       "      <td>Full Time</td>\n",
       "      <td>Entry-level</td>\n",
       "      <td>48000</td>\n",
       "      <td>Engineering,Industrial,Oracle,Power BI,R,R&amp;D</td>\n",
       "      <td>,,,,</td>\n",
       "      <td>Italy</td>\n",
       "      <td>Data Analyst</td>\n",
       "      <td>4</td>\n",
       "    </tr>\n",
       "    <tr>\n",
       "      <th>4</th>\n",
       "      <td>Publicis Groupe</td>\n",
       "      <td>Data Engineer Full time (Public Sector) USA</td>\n",
       "      <td>Arlington, VA, United States</td>\n",
       "      <td>Full Time</td>\n",
       "      <td>Mid-level</td>\n",
       "      <td>108000</td>\n",
       "      <td>AWS,Azure,Computer Science,Consulting,Dataflow...</td>\n",
       "      <td>Flex hours,Flex vacation,Parental leave,Unlimi...</td>\n",
       "      <td>United States</td>\n",
       "      <td>Data Engineer</td>\n",
       "      <td>5</td>\n",
       "    </tr>\n",
       "    <tr>\n",
       "      <th>...</th>\n",
       "      <td>...</td>\n",
       "      <td>...</td>\n",
       "      <td>...</td>\n",
       "      <td>...</td>\n",
       "      <td>...</td>\n",
       "      <td>...</td>\n",
       "      <td>...</td>\n",
       "      <td>...</td>\n",
       "      <td>...</td>\n",
       "      <td>...</td>\n",
       "      <td>...</td>\n",
       "    </tr>\n",
       "    <tr>\n",
       "      <th>3190</th>\n",
       "      <td>CCRi</td>\n",
       "      <td>Application Integration Engineer, Computer Vis...</td>\n",
       "      <td>Chantilly, Virginia, United States</td>\n",
       "      <td>Full Time</td>\n",
       "      <td>Mid-level</td>\n",
       "      <td>113000</td>\n",
       "      <td>Agile,Angular,APIs,Architecture,AWS,Azure</td>\n",
       "      <td>401(k) matching,Career development,Flex hours,...</td>\n",
       "      <td>United States</td>\n",
       "      <td>Application Integration Engineer, Computer Vis...</td>\n",
       "      <td>2892</td>\n",
       "    </tr>\n",
       "    <tr>\n",
       "      <th>3191</th>\n",
       "      <td>Publicis Groupe</td>\n",
       "      <td>Associate Director, Data Science</td>\n",
       "      <td>New York City, United States</td>\n",
       "      <td>Full Time</td>\n",
       "      <td>Mid-level</td>\n",
       "      <td>106000</td>\n",
       "      <td>Bayesian,Classification,Clustering,Data analys...</td>\n",
       "      <td>Career development,Health care,,,</td>\n",
       "      <td>United States</td>\n",
       "      <td>Data Science</td>\n",
       "      <td>2893</td>\n",
       "    </tr>\n",
       "    <tr>\n",
       "      <th>3192</th>\n",
       "      <td>DoorDash</td>\n",
       "      <td>Senior Software Engineer, Machine Learning - A...</td>\n",
       "      <td>Sunnyvale, CA; San Francisco, CA; New York</td>\n",
       "      <td>Full Time</td>\n",
       "      <td>Senior-level</td>\n",
       "      <td>176000</td>\n",
       "      <td>Computer Science,Data analysis,Engineering,Exc...</td>\n",
       "      <td>401(k) matching,Career development,Equity,Insu...</td>\n",
       "      <td>Not found</td>\n",
       "      <td>Machine Learning</td>\n",
       "      <td>2894</td>\n",
       "    </tr>\n",
       "    <tr>\n",
       "      <th>3193</th>\n",
       "      <td>Western Digital</td>\n",
       "      <td>Data Scientist - New College Graduate</td>\n",
       "      <td>Biñan, Philippines</td>\n",
       "      <td>Full Time</td>\n",
       "      <td>Entry-level</td>\n",
       "      <td>39000</td>\n",
       "      <td>APIs,Clustering,Computer Science,Data visualiz...</td>\n",
       "      <td>Career development,,,,</td>\n",
       "      <td>Philippines</td>\n",
       "      <td>Data Science</td>\n",
       "      <td>2895</td>\n",
       "    </tr>\n",
       "    <tr>\n",
       "      <th>3196</th>\n",
       "      <td>ATB Financial</td>\n",
       "      <td>Data Scientist</td>\n",
       "      <td>Edmonton, Alberta, Canada</td>\n",
       "      <td>Full Time</td>\n",
       "      <td>Entry-level</td>\n",
       "      <td>39000</td>\n",
       "      <td>Computer Science,Data Analytics,Data Mining,Ec...</td>\n",
       "      <td>Career development,Startup environment,,,</td>\n",
       "      <td>Canada</td>\n",
       "      <td>Data Science</td>\n",
       "      <td>2896</td>\n",
       "    </tr>\n",
       "  </tbody>\n",
       "</table>\n",
       "<p>2896 rows × 11 columns</p>\n",
       "</div>"
      ],
      "text/plain": [
       "              Company                                          Job Title  \\\n",
       "0                 SGS                              Clinical Data Analyst   \n",
       "1             Ocorian                             AML/CFT & Data Analyst   \n",
       "2              Cricut                          Machine Learning Engineer   \n",
       "3         Bosch Group               Application Developer & Data Analyst   \n",
       "4     Publicis Groupe        Data Engineer Full time (Public Sector) USA   \n",
       "...               ...                                                ...   \n",
       "3190             CCRi  Application Integration Engineer, Computer Vis...   \n",
       "3191  Publicis Groupe                   Associate Director, Data Science   \n",
       "3192         DoorDash  Senior Software Engineer, Machine Learning - A...   \n",
       "3193  Western Digital              Data Scientist - New College Graduate   \n",
       "3196    ATB Financial                                     Data Scientist   \n",
       "\n",
       "                                          Location   Job Type  \\\n",
       "0                    Richardson, TX, United States  Full Time   \n",
       "1                                 Ebène, Mauritius  Full Time   \n",
       "2                  South Jordan, UT, United States  Full Time   \n",
       "3                                 Nonantola, Italy  Full Time   \n",
       "4                     Arlington, VA, United States  Full Time   \n",
       "...                                            ...        ...   \n",
       "3190            Chantilly, Virginia, United States  Full Time   \n",
       "3191                  New York City, United States  Full Time   \n",
       "3192  Sunnyvale, CA; San Francisco, CA; New York \n",
       "  Full Time   \n",
       "3193                            Biñan, Philippines  Full Time   \n",
       "3196                     Edmonton, Alberta, Canada  Full Time   \n",
       "\n",
       "     Experience level  Salary  \\\n",
       "0         Entry-level   48000   \n",
       "1         Entry-level   48000   \n",
       "2         No specific   90000   \n",
       "3         Entry-level   48000   \n",
       "4           Mid-level  108000   \n",
       "...               ...     ...   \n",
       "3190        Mid-level  113000   \n",
       "3191        Mid-level  106000   \n",
       "3192     Senior-level  176000   \n",
       "3193      Entry-level   39000   \n",
       "3196      Entry-level   39000   \n",
       "\n",
       "                             Requirment of the company   \\\n",
       "0     Computer Science,Data quality,Genetics,Mathema...   \n",
       "1              Agile,Data management,Finance,Security,,   \n",
       "2     Agile,Architecture,AWS,Computer Science,Comput...   \n",
       "3          Engineering,Industrial,Oracle,Power BI,R,R&D   \n",
       "4     AWS,Azure,Computer Science,Consulting,Dataflow...   \n",
       "...                                                 ...   \n",
       "3190          Agile,Angular,APIs,Architecture,AWS,Azure   \n",
       "3191  Bayesian,Classification,Clustering,Data analys...   \n",
       "3192  Computer Science,Data analysis,Engineering,Exc...   \n",
       "3193  APIs,Clustering,Computer Science,Data visualiz...   \n",
       "3196  Computer Science,Data Analytics,Data Mining,Ec...   \n",
       "\n",
       "                                             Facilities        country  \\\n",
       "0                                                  ,,,,  United States   \n",
       "1                                                  ,,,,      Mauritius   \n",
       "2                                Career development,,,,         Jordan   \n",
       "3                                                  ,,,,          Italy   \n",
       "4     Flex hours,Flex vacation,Parental leave,Unlimi...  United States   \n",
       "...                                                 ...            ...   \n",
       "3190  401(k) matching,Career development,Flex hours,...  United States   \n",
       "3191                  Career development,Health care,,,  United States   \n",
       "3192  401(k) matching,Career development,Equity,Insu...      Not found   \n",
       "3193                             Career development,,,,    Philippines   \n",
       "3196          Career development,Startup environment,,,         Canada   \n",
       "\n",
       "                                          New Job Title    id  \n",
       "0                                          Data Analyst     1  \n",
       "1                                          Data Analyst     2  \n",
       "2                                      Machine Learning     3  \n",
       "3                                          Data Analyst     4  \n",
       "4                                         Data Engineer     5  \n",
       "...                                                 ...   ...  \n",
       "3190  Application Integration Engineer, Computer Vis...  2892  \n",
       "3191                                       Data Science  2893  \n",
       "3192                                   Machine Learning  2894  \n",
       "3193                                       Data Science  2895  \n",
       "3196                                       Data Science  2896  \n",
       "\n",
       "[2896 rows x 11 columns]"
      ]
     },
     "execution_count": 60,
     "metadata": {},
     "output_type": "execute_result"
    }
   ],
   "source": [
    "dataToInsert = data\n",
    "dataToInsert['id'] = list(range(1,len(dataToInsert)+1))\n",
    "#2896\n",
    "dataToInsert"
   ]
  },
  {
   "cell_type": "markdown",
   "metadata": {},
   "source": [
    "<h3>Countries</h3>\n"
   ]
  },
  {
   "cell_type": "code",
   "execution_count": 61,
   "metadata": {},
   "outputs": [
    {
     "data": {
      "text/html": [
       "<div>\n",
       "<style scoped>\n",
       "    .dataframe tbody tr th:only-of-type {\n",
       "        vertical-align: middle;\n",
       "    }\n",
       "\n",
       "    .dataframe tbody tr th {\n",
       "        vertical-align: top;\n",
       "    }\n",
       "\n",
       "    .dataframe thead th {\n",
       "        text-align: right;\n",
       "    }\n",
       "</style>\n",
       "<table border=\"1\" class=\"dataframe\">\n",
       "  <thead>\n",
       "    <tr style=\"text-align: right;\">\n",
       "      <th></th>\n",
       "      <th>countryID</th>\n",
       "      <th>name</th>\n",
       "    </tr>\n",
       "  </thead>\n",
       "  <tbody>\n",
       "    <tr>\n",
       "      <th>0</th>\n",
       "      <td>1</td>\n",
       "      <td>United States</td>\n",
       "    </tr>\n",
       "    <tr>\n",
       "      <th>1</th>\n",
       "      <td>2</td>\n",
       "      <td>Mauritius</td>\n",
       "    </tr>\n",
       "    <tr>\n",
       "      <th>2</th>\n",
       "      <td>3</td>\n",
       "      <td>Jordan</td>\n",
       "    </tr>\n",
       "    <tr>\n",
       "      <th>3</th>\n",
       "      <td>4</td>\n",
       "      <td>Italy</td>\n",
       "    </tr>\n",
       "    <tr>\n",
       "      <th>4</th>\n",
       "      <td>5</td>\n",
       "      <td>Portugal</td>\n",
       "    </tr>\n",
       "    <tr>\n",
       "      <th>...</th>\n",
       "      <td>...</td>\n",
       "      <td>...</td>\n",
       "    </tr>\n",
       "    <tr>\n",
       "      <th>74</th>\n",
       "      <td>75</td>\n",
       "      <td>Albania</td>\n",
       "    </tr>\n",
       "    <tr>\n",
       "      <th>75</th>\n",
       "      <td>76</td>\n",
       "      <td>Peru</td>\n",
       "    </tr>\n",
       "    <tr>\n",
       "      <th>76</th>\n",
       "      <td>77</td>\n",
       "      <td>Bangladesh</td>\n",
       "    </tr>\n",
       "    <tr>\n",
       "      <th>77</th>\n",
       "      <td>78</td>\n",
       "      <td>Lebanon</td>\n",
       "    </tr>\n",
       "    <tr>\n",
       "      <th>78</th>\n",
       "      <td>79</td>\n",
       "      <td>Cyprus</td>\n",
       "    </tr>\n",
       "  </tbody>\n",
       "</table>\n",
       "<p>79 rows × 2 columns</p>\n",
       "</div>"
      ],
      "text/plain": [
       "    countryID           name\n",
       "0           1  United States\n",
       "1           2      Mauritius\n",
       "2           3         Jordan\n",
       "3           4          Italy\n",
       "4           5       Portugal\n",
       "..        ...            ...\n",
       "74         75        Albania\n",
       "75         76           Peru\n",
       "76         77     Bangladesh\n",
       "77         78        Lebanon\n",
       "78         79         Cyprus\n",
       "\n",
       "[79 rows x 2 columns]"
      ]
     },
     "execution_count": 61,
     "metadata": {},
     "output_type": "execute_result"
    }
   ],
   "source": [
    "countries = []\n",
    "for index,row in pd.DataFrame(dataToInsert['country'].unique()).rename(columns={0:'name'}).iterrows():\n",
    "    countries.append(dict(countryID=index+1,name=row['name']))\n",
    "\n",
    "countries = pd.DataFrame(countries)\n",
    "countries"
   ]
  },
  {
   "cell_type": "code",
   "execution_count": 62,
   "metadata": {},
   "outputs": [],
   "source": [
    "#Replace country with id\n",
    "for index,c in countries.iterrows():\n",
    "    dataToInsert['country'].replace(c['name'],c['countryID'],inplace=True)"
   ]
  },
  {
   "cell_type": "code",
   "execution_count": null,
   "metadata": {},
   "outputs": [],
   "source": [
    "#Insert countries into database\n",
    "\n",
    "cursor = cnx.cursor()\n",
    "for index,c in countries.iterrows():\n",
    "    cursor.execute('INSERT INTO countries VALUES(?,?)',c['countryID'],c['name'])\n",
    "cursor.commit()\n",
    "cursor.close()"
   ]
  },
  {
   "cell_type": "markdown",
   "metadata": {},
   "source": [
    "<h3>Experience Level</h3>"
   ]
  },
  {
   "cell_type": "code",
   "execution_count": 64,
   "metadata": {},
   "outputs": [
    {
     "data": {
      "text/html": [
       "<div>\n",
       "<style scoped>\n",
       "    .dataframe tbody tr th:only-of-type {\n",
       "        vertical-align: middle;\n",
       "    }\n",
       "\n",
       "    .dataframe tbody tr th {\n",
       "        vertical-align: top;\n",
       "    }\n",
       "\n",
       "    .dataframe thead th {\n",
       "        text-align: right;\n",
       "    }\n",
       "</style>\n",
       "<table border=\"1\" class=\"dataframe\">\n",
       "  <thead>\n",
       "    <tr style=\"text-align: right;\">\n",
       "      <th></th>\n",
       "      <th>levelID</th>\n",
       "      <th>name</th>\n",
       "    </tr>\n",
       "  </thead>\n",
       "  <tbody>\n",
       "    <tr>\n",
       "      <th>0</th>\n",
       "      <td>1</td>\n",
       "      <td>Entry-level</td>\n",
       "    </tr>\n",
       "    <tr>\n",
       "      <th>1</th>\n",
       "      <td>2</td>\n",
       "      <td>No specific</td>\n",
       "    </tr>\n",
       "    <tr>\n",
       "      <th>2</th>\n",
       "      <td>3</td>\n",
       "      <td>Mid-level</td>\n",
       "    </tr>\n",
       "    <tr>\n",
       "      <th>3</th>\n",
       "      <td>4</td>\n",
       "      <td>Senior-level</td>\n",
       "    </tr>\n",
       "    <tr>\n",
       "      <th>4</th>\n",
       "      <td>5</td>\n",
       "      <td>Executive-level</td>\n",
       "    </tr>\n",
       "  </tbody>\n",
       "</table>\n",
       "</div>"
      ],
      "text/plain": [
       "   levelID             name\n",
       "0        1      Entry-level\n",
       "1        2      No specific\n",
       "2        3        Mid-level\n",
       "3        4     Senior-level\n",
       "4        5  Executive-level"
      ]
     },
     "execution_count": 64,
     "metadata": {},
     "output_type": "execute_result"
    }
   ],
   "source": [
    "experienceLevel = []\n",
    "\n",
    "for index,row in pd.DataFrame(dataToInsert['Experience level'].unique()).rename(columns={0:'name'}).iterrows():\n",
    "    experienceLevel.append(dict(levelID=index+1,name=row['name']))\n",
    "\n",
    "experienceLevel = pd.DataFrame(experienceLevel)\n",
    "experienceLevel"
   ]
  },
  {
   "cell_type": "code",
   "execution_count": 65,
   "metadata": {},
   "outputs": [],
   "source": [
    "#Replace experience level\n",
    "for index,e in experienceLevel.iterrows():\n",
    "    dataToInsert['Experience level'].replace(e['name'],e['levelID'],inplace=True)"
   ]
  },
  {
   "cell_type": "code",
   "execution_count": 14,
   "metadata": {},
   "outputs": [],
   "source": [
    "#Insert experience level into database\n",
    "cursor = cnx.cursor()\n",
    "for index,ex in experienceLevel.iterrows():\n",
    "    cursor.execute('INSERT INTO experienceLevels VALUES (?,?)',ex['levelID'],ex['name'])\n",
    "cursor.commit()\n",
    "cursor.close()"
   ]
  },
  {
   "cell_type": "markdown",
   "metadata": {},
   "source": [
    "<h3>Companies</h3>"
   ]
  },
  {
   "cell_type": "code",
   "execution_count": 66,
   "metadata": {},
   "outputs": [
    {
     "data": {
      "text/html": [
       "<div>\n",
       "<style scoped>\n",
       "    .dataframe tbody tr th:only-of-type {\n",
       "        vertical-align: middle;\n",
       "    }\n",
       "\n",
       "    .dataframe tbody tr th {\n",
       "        vertical-align: top;\n",
       "    }\n",
       "\n",
       "    .dataframe thead th {\n",
       "        text-align: right;\n",
       "    }\n",
       "</style>\n",
       "<table border=\"1\" class=\"dataframe\">\n",
       "  <thead>\n",
       "    <tr style=\"text-align: right;\">\n",
       "      <th></th>\n",
       "      <th>companyID</th>\n",
       "      <th>name</th>\n",
       "    </tr>\n",
       "  </thead>\n",
       "  <tbody>\n",
       "    <tr>\n",
       "      <th>0</th>\n",
       "      <td>1</td>\n",
       "      <td>SGS</td>\n",
       "    </tr>\n",
       "    <tr>\n",
       "      <th>1</th>\n",
       "      <td>2</td>\n",
       "      <td>Ocorian</td>\n",
       "    </tr>\n",
       "    <tr>\n",
       "      <th>2</th>\n",
       "      <td>3</td>\n",
       "      <td>Cricut</td>\n",
       "    </tr>\n",
       "    <tr>\n",
       "      <th>3</th>\n",
       "      <td>4</td>\n",
       "      <td>Bosch Group</td>\n",
       "    </tr>\n",
       "    <tr>\n",
       "      <th>4</th>\n",
       "      <td>5</td>\n",
       "      <td>Publicis Groupe</td>\n",
       "    </tr>\n",
       "    <tr>\n",
       "      <th>...</th>\n",
       "      <td>...</td>\n",
       "      <td>...</td>\n",
       "    </tr>\n",
       "    <tr>\n",
       "      <th>1070</th>\n",
       "      <td>1071</td>\n",
       "      <td>Junglee Games</td>\n",
       "    </tr>\n",
       "    <tr>\n",
       "      <th>1071</th>\n",
       "      <td>1072</td>\n",
       "      <td>Thaloz</td>\n",
       "    </tr>\n",
       "    <tr>\n",
       "      <th>1072</th>\n",
       "      <td>1073</td>\n",
       "      <td>Rackspace</td>\n",
       "    </tr>\n",
       "    <tr>\n",
       "      <th>1073</th>\n",
       "      <td>1074</td>\n",
       "      <td>MUFG Investor Services</td>\n",
       "    </tr>\n",
       "    <tr>\n",
       "      <th>1074</th>\n",
       "      <td>1075</td>\n",
       "      <td>Galileo Financial Technologies</td>\n",
       "    </tr>\n",
       "  </tbody>\n",
       "</table>\n",
       "<p>1075 rows × 2 columns</p>\n",
       "</div>"
      ],
      "text/plain": [
       "      companyID                            name\n",
       "0             1                             SGS\n",
       "1             2                         Ocorian\n",
       "2             3                          Cricut\n",
       "3             4                     Bosch Group\n",
       "4             5                 Publicis Groupe\n",
       "...         ...                             ...\n",
       "1070       1071                   Junglee Games\n",
       "1071       1072                          Thaloz\n",
       "1072       1073                       Rackspace\n",
       "1073       1074          MUFG Investor Services\n",
       "1074       1075  Galileo Financial Technologies\n",
       "\n",
       "[1075 rows x 2 columns]"
      ]
     },
     "execution_count": 66,
     "metadata": {},
     "output_type": "execute_result"
    }
   ],
   "source": [
    "companies = []\n",
    "\n",
    "for index,row in pd.DataFrame(dataToInsert['Company'].unique()).rename(columns={0:'name'}).iterrows():\n",
    "    companies.append(dict(companyID=index+1,name=row['name']))\n",
    "\n",
    "companies = pd.DataFrame(companies)\n",
    "companies"
   ]
  },
  {
   "cell_type": "code",
   "execution_count": 67,
   "metadata": {},
   "outputs": [],
   "source": [
    "#Replace company names by id\n",
    "for index,c in companies.iterrows():\n",
    "    dataToInsert['Company'].replace(c['name'],c['companyID'],inplace=True)"
   ]
  },
  {
   "cell_type": "code",
   "execution_count": 17,
   "metadata": {},
   "outputs": [],
   "source": [
    "#insert companies into database\n",
    "\n",
    "cursor = cnx.cursor()\n",
    "for index,c in companies.iterrows():\n",
    "    cursor.execute('INSERT INTO companies values (?,?)',c['companyID'],c['name'])\n",
    "cursor.commit()\n",
    "cursor.close()"
   ]
  },
  {
   "cell_type": "markdown",
   "metadata": {},
   "source": [
    "<h3>Job Type<h3>"
   ]
  },
  {
   "cell_type": "code",
   "execution_count": 68,
   "metadata": {},
   "outputs": [
    {
     "data": {
      "text/html": [
       "<div>\n",
       "<style scoped>\n",
       "    .dataframe tbody tr th:only-of-type {\n",
       "        vertical-align: middle;\n",
       "    }\n",
       "\n",
       "    .dataframe tbody tr th {\n",
       "        vertical-align: top;\n",
       "    }\n",
       "\n",
       "    .dataframe thead th {\n",
       "        text-align: right;\n",
       "    }\n",
       "</style>\n",
       "<table border=\"1\" class=\"dataframe\">\n",
       "  <thead>\n",
       "    <tr style=\"text-align: right;\">\n",
       "      <th></th>\n",
       "      <th>typeID</th>\n",
       "      <th>name</th>\n",
       "    </tr>\n",
       "  </thead>\n",
       "  <tbody>\n",
       "    <tr>\n",
       "      <th>0</th>\n",
       "      <td>1</td>\n",
       "      <td>Full Time</td>\n",
       "    </tr>\n",
       "    <tr>\n",
       "      <th>1</th>\n",
       "      <td>2</td>\n",
       "      <td>Internship</td>\n",
       "    </tr>\n",
       "    <tr>\n",
       "      <th>2</th>\n",
       "      <td>3</td>\n",
       "      <td>Part Time</td>\n",
       "    </tr>\n",
       "  </tbody>\n",
       "</table>\n",
       "</div>"
      ],
      "text/plain": [
       "   typeID        name\n",
       "0       1   Full Time\n",
       "1       2  Internship\n",
       "2       3   Part Time"
      ]
     },
     "execution_count": 68,
     "metadata": {},
     "output_type": "execute_result"
    }
   ],
   "source": [
    "jobType = []\n",
    "\n",
    "for index,row in pd.DataFrame(dataToInsert['Job Type'].unique()).rename(columns={0:'name'}).iterrows():\n",
    "    jobType.append(dict(typeID=index+1,name=row['name']))\n",
    "\n",
    "jobType = pd.DataFrame(jobType)\n",
    "jobType"
   ]
  },
  {
   "cell_type": "code",
   "execution_count": 69,
   "metadata": {},
   "outputs": [],
   "source": [
    "#replace job type by id\n",
    "\n",
    "for index,jtype in jobType.iterrows():\n",
    "    dataToInsert['Job Type'].replace(jtype['name'],jtype['typeID'],inplace=True)"
   ]
  },
  {
   "cell_type": "code",
   "execution_count": 20,
   "metadata": {},
   "outputs": [],
   "source": [
    "#Insert job type into database\n",
    "\n",
    "cursor = cnx.cursor()\n",
    "for index,tp in jobType.iterrows():\n",
    "    cursor.execute('INSERT INTO jobTypes VALUES(?,?)',tp['typeID'],tp['name'])\n",
    "cursor.commit()\n",
    "cursor.close()"
   ]
  },
  {
   "cell_type": "markdown",
   "metadata": {},
   "source": [
    "<h3>Jobs</h3>"
   ]
  },
  {
   "cell_type": "code",
   "execution_count": 70,
   "metadata": {},
   "outputs": [
    {
     "data": {
      "text/html": [
       "<div>\n",
       "<style scoped>\n",
       "    .dataframe tbody tr th:only-of-type {\n",
       "        vertical-align: middle;\n",
       "    }\n",
       "\n",
       "    .dataframe tbody tr th {\n",
       "        vertical-align: top;\n",
       "    }\n",
       "\n",
       "    .dataframe thead th {\n",
       "        text-align: right;\n",
       "    }\n",
       "</style>\n",
       "<table border=\"1\" class=\"dataframe\">\n",
       "  <thead>\n",
       "    <tr style=\"text-align: right;\">\n",
       "      <th></th>\n",
       "      <th>Company</th>\n",
       "      <th>Job Title</th>\n",
       "      <th>Location</th>\n",
       "      <th>Job Type</th>\n",
       "      <th>Experience level</th>\n",
       "      <th>Salary</th>\n",
       "      <th>Requirment of the company</th>\n",
       "      <th>Facilities</th>\n",
       "      <th>country</th>\n",
       "      <th>New Job Title</th>\n",
       "      <th>id</th>\n",
       "    </tr>\n",
       "  </thead>\n",
       "  <tbody>\n",
       "    <tr>\n",
       "      <th>0</th>\n",
       "      <td>1</td>\n",
       "      <td>Clinical Data Analyst</td>\n",
       "      <td>Richardson, TX, United States</td>\n",
       "      <td>1</td>\n",
       "      <td>1</td>\n",
       "      <td>48000</td>\n",
       "      <td>Computer Science,Data quality,Genetics,Mathema...</td>\n",
       "      <td>,,,,</td>\n",
       "      <td>1</td>\n",
       "      <td>Data Analyst</td>\n",
       "      <td>1</td>\n",
       "    </tr>\n",
       "    <tr>\n",
       "      <th>1</th>\n",
       "      <td>2</td>\n",
       "      <td>AML/CFT &amp; Data Analyst</td>\n",
       "      <td>Ebène, Mauritius</td>\n",
       "      <td>1</td>\n",
       "      <td>1</td>\n",
       "      <td>48000</td>\n",
       "      <td>Agile,Data management,Finance,Security,,</td>\n",
       "      <td>,,,,</td>\n",
       "      <td>2</td>\n",
       "      <td>Data Analyst</td>\n",
       "      <td>2</td>\n",
       "    </tr>\n",
       "    <tr>\n",
       "      <th>2</th>\n",
       "      <td>3</td>\n",
       "      <td>Machine Learning Engineer</td>\n",
       "      <td>South Jordan, UT, United States</td>\n",
       "      <td>1</td>\n",
       "      <td>2</td>\n",
       "      <td>90000</td>\n",
       "      <td>Agile,Architecture,AWS,Computer Science,Comput...</td>\n",
       "      <td>Career development,,,,</td>\n",
       "      <td>3</td>\n",
       "      <td>Machine Learning</td>\n",
       "      <td>3</td>\n",
       "    </tr>\n",
       "  </tbody>\n",
       "</table>\n",
       "</div>"
      ],
      "text/plain": [
       "   Company                  Job Title                         Location  \\\n",
       "0        1      Clinical Data Analyst    Richardson, TX, United States   \n",
       "1        2     AML/CFT & Data Analyst                 Ebène, Mauritius   \n",
       "2        3  Machine Learning Engineer  South Jordan, UT, United States   \n",
       "\n",
       "   Job Type  Experience level  Salary  \\\n",
       "0         1                 1   48000   \n",
       "1         1                 1   48000   \n",
       "2         1                 2   90000   \n",
       "\n",
       "                          Requirment of the company               Facilities  \\\n",
       "0  Computer Science,Data quality,Genetics,Mathema...                    ,,,,   \n",
       "1           Agile,Data management,Finance,Security,,                    ,,,,   \n",
       "2  Agile,Architecture,AWS,Computer Science,Comput...  Career development,,,,   \n",
       "\n",
       "   country     New Job Title  id  \n",
       "0        1      Data Analyst   1  \n",
       "1        2      Data Analyst   2  \n",
       "2        3  Machine Learning   3  "
      ]
     },
     "execution_count": 70,
     "metadata": {},
     "output_type": "execute_result"
    }
   ],
   "source": [
    "dataToInsert.head(3)"
   ]
  },
  {
   "cell_type": "code",
   "execution_count": 77,
   "metadata": {},
   "outputs": [],
   "source": [
    "\n",
    "#insert jobs into database -- ,,jobLocation,salary,companyID,levelID,countryID,typeID\n",
    "#,str(),str(),str(),str()\n",
    "\n",
    "cursor = cnx.cursor()\n",
    "for index,job in dataToInsert.iterrows():\n",
    "    cursor.execute('INSERT INTO jobs(jobID,jobName,jobLocation,salary,companyID,levelID,countryID,typeID) VALUES(?,?,?,?,?,?,?,?)',job['id'],job['New Job Title'],job['Location'],job['Salary'],job['Company'],job['Experience level'],job['country'],job['Job Type'])\n",
    "cursor.commit()\n",
    "cursor.close()"
   ]
  },
  {
   "cell_type": "markdown",
   "metadata": {},
   "source": [
    "<h3>Requirments<h3>"
   ]
  },
  {
   "cell_type": "code",
   "execution_count": 73,
   "metadata": {},
   "outputs": [
    {
     "data": {
      "text/html": [
       "<div>\n",
       "<style scoped>\n",
       "    .dataframe tbody tr th:only-of-type {\n",
       "        vertical-align: middle;\n",
       "    }\n",
       "\n",
       "    .dataframe tbody tr th {\n",
       "        vertical-align: top;\n",
       "    }\n",
       "\n",
       "    .dataframe thead th {\n",
       "        text-align: right;\n",
       "    }\n",
       "</style>\n",
       "<table border=\"1\" class=\"dataframe\">\n",
       "  <thead>\n",
       "    <tr style=\"text-align: right;\">\n",
       "      <th></th>\n",
       "      <th>jobID</th>\n",
       "      <th>name</th>\n",
       "    </tr>\n",
       "  </thead>\n",
       "  <tbody>\n",
       "    <tr>\n",
       "      <th>0</th>\n",
       "      <td>1</td>\n",
       "      <td>Computer Science</td>\n",
       "    </tr>\n",
       "    <tr>\n",
       "      <th>1</th>\n",
       "      <td>1</td>\n",
       "      <td>Data quality</td>\n",
       "    </tr>\n",
       "    <tr>\n",
       "      <th>2</th>\n",
       "      <td>1</td>\n",
       "      <td>Genetics</td>\n",
       "    </tr>\n",
       "    <tr>\n",
       "      <th>3</th>\n",
       "      <td>1</td>\n",
       "      <td>Mathematics</td>\n",
       "    </tr>\n",
       "    <tr>\n",
       "      <th>4</th>\n",
       "      <td>1</td>\n",
       "      <td>SAS</td>\n",
       "    </tr>\n",
       "    <tr>\n",
       "      <th>...</th>\n",
       "      <td>...</td>\n",
       "      <td>...</td>\n",
       "    </tr>\n",
       "    <tr>\n",
       "      <th>16639</th>\n",
       "      <td>2896</td>\n",
       "      <td>Data Analytics</td>\n",
       "    </tr>\n",
       "    <tr>\n",
       "      <th>16640</th>\n",
       "      <td>2896</td>\n",
       "      <td>Data Mining</td>\n",
       "    </tr>\n",
       "    <tr>\n",
       "      <th>16641</th>\n",
       "      <td>2896</td>\n",
       "      <td>Economics</td>\n",
       "    </tr>\n",
       "    <tr>\n",
       "      <th>16642</th>\n",
       "      <td>2896</td>\n",
       "      <td>Engineering</td>\n",
       "    </tr>\n",
       "    <tr>\n",
       "      <th>16643</th>\n",
       "      <td>2896</td>\n",
       "      <td>GCP</td>\n",
       "    </tr>\n",
       "  </tbody>\n",
       "</table>\n",
       "<p>16644 rows × 2 columns</p>\n",
       "</div>"
      ],
      "text/plain": [
       "       jobID              name\n",
       "0          1  Computer Science\n",
       "1          1      Data quality\n",
       "2          1          Genetics\n",
       "3          1       Mathematics\n",
       "4          1               SAS\n",
       "...      ...               ...\n",
       "16639   2896    Data Analytics\n",
       "16640   2896       Data Mining\n",
       "16641   2896         Economics\n",
       "16642   2896       Engineering\n",
       "16643   2896               GCP\n",
       "\n",
       "[16644 rows x 2 columns]"
      ]
     },
     "execution_count": 73,
     "metadata": {},
     "output_type": "execute_result"
    }
   ],
   "source": [
    "requirments = []\n",
    "\n",
    "for index,rec in dataToInsert[['id','Requirment of the company ']].iterrows():\n",
    "    for r in rec['Requirment of the company '].split(','):\n",
    "        if r != '':\n",
    "            requirments.append(dict(jobID=rec['id'],name=r))\n",
    "\n",
    "requirments = pd.DataFrame(requirments)\n",
    "requirments.drop_duplicates(inplace=True)\n",
    "requirments"
   ]
  },
  {
   "cell_type": "code",
   "execution_count": 74,
   "metadata": {},
   "outputs": [],
   "source": [
    "#Insert requirments into database\n",
    "\n",
    "cursor = cnx.cursor()\n",
    "\n",
    "for index,r in requirments.iterrows():\n",
    "    cursor.execute('INSERT INTO requirments VALUES (?,?)',r['jobID'],r['name'])\n",
    "\n",
    "cursor.commit()\n",
    "cursor.close()"
   ]
  },
  {
   "cell_type": "markdown",
   "metadata": {},
   "source": [
    " <h3>Facilities</h3>"
   ]
  },
  {
   "cell_type": "code",
   "execution_count": 75,
   "metadata": {},
   "outputs": [
    {
     "data": {
      "text/html": [
       "<div>\n",
       "<style scoped>\n",
       "    .dataframe tbody tr th:only-of-type {\n",
       "        vertical-align: middle;\n",
       "    }\n",
       "\n",
       "    .dataframe tbody tr th {\n",
       "        vertical-align: top;\n",
       "    }\n",
       "\n",
       "    .dataframe thead th {\n",
       "        text-align: right;\n",
       "    }\n",
       "</style>\n",
       "<table border=\"1\" class=\"dataframe\">\n",
       "  <thead>\n",
       "    <tr style=\"text-align: right;\">\n",
       "      <th></th>\n",
       "      <th>jobID</th>\n",
       "      <th>name</th>\n",
       "    </tr>\n",
       "  </thead>\n",
       "  <tbody>\n",
       "    <tr>\n",
       "      <th>0</th>\n",
       "      <td>3</td>\n",
       "      <td>Career development</td>\n",
       "    </tr>\n",
       "    <tr>\n",
       "      <th>1</th>\n",
       "      <td>5</td>\n",
       "      <td>Flex hours</td>\n",
       "    </tr>\n",
       "    <tr>\n",
       "      <th>2</th>\n",
       "      <td>5</td>\n",
       "      <td>Flex vacation</td>\n",
       "    </tr>\n",
       "    <tr>\n",
       "      <th>3</th>\n",
       "      <td>5</td>\n",
       "      <td>Parental leave</td>\n",
       "    </tr>\n",
       "    <tr>\n",
       "      <th>4</th>\n",
       "      <td>5</td>\n",
       "      <td>Unlimited paid time off</td>\n",
       "    </tr>\n",
       "    <tr>\n",
       "      <th>...</th>\n",
       "      <td>...</td>\n",
       "      <td>...</td>\n",
       "    </tr>\n",
       "    <tr>\n",
       "      <th>8253</th>\n",
       "      <td>2894</td>\n",
       "      <td>Insurance</td>\n",
       "    </tr>\n",
       "    <tr>\n",
       "      <th>8254</th>\n",
       "      <td>2894</td>\n",
       "      <td>Parental leave</td>\n",
       "    </tr>\n",
       "    <tr>\n",
       "      <th>8255</th>\n",
       "      <td>2895</td>\n",
       "      <td>Career development</td>\n",
       "    </tr>\n",
       "    <tr>\n",
       "      <th>8256</th>\n",
       "      <td>2896</td>\n",
       "      <td>Career development</td>\n",
       "    </tr>\n",
       "    <tr>\n",
       "      <th>8257</th>\n",
       "      <td>2896</td>\n",
       "      <td>Startup environment</td>\n",
       "    </tr>\n",
       "  </tbody>\n",
       "</table>\n",
       "<p>8258 rows × 2 columns</p>\n",
       "</div>"
      ],
      "text/plain": [
       "      jobID                     name\n",
       "0         3       Career development\n",
       "1         5               Flex hours\n",
       "2         5            Flex vacation\n",
       "3         5           Parental leave\n",
       "4         5  Unlimited paid time off\n",
       "...     ...                      ...\n",
       "8253   2894                Insurance\n",
       "8254   2894           Parental leave\n",
       "8255   2895       Career development\n",
       "8256   2896       Career development\n",
       "8257   2896      Startup environment\n",
       "\n",
       "[8258 rows x 2 columns]"
      ]
     },
     "execution_count": 75,
     "metadata": {},
     "output_type": "execute_result"
    }
   ],
   "source": [
    "facilities = []\n",
    "\n",
    "for index,f in dataToInsert[['id','Facilities']].iterrows():\n",
    "    for r in f['Facilities'].split(','):\n",
    "        if r != '':\n",
    "            facilities.append(dict(jobID=f['id'],name=r))\n",
    "\n",
    "facilities = pd.DataFrame(facilities)\n",
    "facilities.drop_duplicates(inplace=True)\n",
    "facilities"
   ]
  },
  {
   "cell_type": "code",
   "execution_count": 76,
   "metadata": {},
   "outputs": [],
   "source": [
    "#Insert facilities into database\n",
    "\n",
    "cursor = cnx.cursor()\n",
    "\n",
    "for index,f in facilities.iterrows():\n",
    "    cursor.execute('INSERT INTO facilities VALUES (?,?)',f['jobID'],f['name'])\n",
    "\n",
    "cursor.commit()\n",
    "cursor.close()"
   ]
  }
 ],
 "metadata": {
  "kernelspec": {
   "display_name": "base",
   "language": "python",
   "name": "python3"
  },
  "language_info": {
   "codemirror_mode": {
    "name": "ipython",
    "version": 3
   },
   "file_extension": ".py",
   "mimetype": "text/x-python",
   "name": "python",
   "nbconvert_exporter": "python",
   "pygments_lexer": "ipython3",
   "version": "3.10.10"
  },
  "orig_nbformat": 4
 },
 "nbformat": 4,
 "nbformat_minor": 2
}
