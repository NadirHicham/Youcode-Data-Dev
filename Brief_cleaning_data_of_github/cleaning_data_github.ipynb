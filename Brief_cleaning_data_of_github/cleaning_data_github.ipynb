{
 "cells": [
  {
   "cell_type": "code",
   "execution_count": 29,
   "metadata": {},
   "outputs": [],
   "source": [
    "import pandas as pd\n",
    "import matplotlib.pyplot as plt\n",
    "import glob\n",
    "import os"
   ]
  },
  {
   "cell_type": "code",
   "execution_count": 30,
   "metadata": {},
   "outputs": [
    {
     "name": "stdout",
     "output_type": "stream",
     "text": [
      "<class 'pandas.core.frame.DataFrame'>\n",
      "Int64Index: 171396 entries, 0 to 20395\n",
      "Data columns (total 15 columns):\n",
      " #   Column            Non-Null Count   Dtype \n",
      "---  ------            --------------   ----- \n",
      " 0   Unnamed: 0        171396 non-null  int64 \n",
      " 1   full_name         171396 non-null  object\n",
      " 2   url               171396 non-null  object\n",
      " 3   clone_url         171396 non-null  object\n",
      " 4   watchers_count    171396 non-null  int64 \n",
      " 5   stargazers_count  171396 non-null  int64 \n",
      " 6   language          145800 non-null  object\n",
      " 7   forks             171396 non-null  int64 \n",
      " 8   description       117781 non-null  object\n",
      " 9   type              171396 non-null  object\n",
      " 10  license           72197 non-null   object\n",
      " 11  fork              171396 non-null  bool  \n",
      " 12  created_at        171396 non-null  object\n",
      " 13  updated_at        171396 non-null  object\n",
      " 14  pushed_at         171396 non-null  object\n",
      "dtypes: bool(1), int64(4), object(10)\n",
      "memory usage: 19.8+ MB\n"
     ]
    }
   ],
   "source": [
    "#Get all files CSV\n",
    "path = r'C:/Users/Youcode/Desktop/Scraping github/data'\n",
    "all_files = glob.glob(os.path.join(path, \"n_repos_*.csv\"))\n",
    "\n",
    "df = pd.concat([pd.read_csv(f) for f in all_files])\n",
    "\n",
    "#get information about dataset\n",
    "df.info()\n"
   ]
  },
  {
   "cell_type": "code",
   "execution_count": 31,
   "metadata": {},
   "outputs": [
    {
     "data": {
      "text/html": [
       "<div>\n",
       "<style scoped>\n",
       "    .dataframe tbody tr th:only-of-type {\n",
       "        vertical-align: middle;\n",
       "    }\n",
       "\n",
       "    .dataframe tbody tr th {\n",
       "        vertical-align: top;\n",
       "    }\n",
       "\n",
       "    .dataframe thead th {\n",
       "        text-align: right;\n",
       "    }\n",
       "</style>\n",
       "<table border=\"1\" class=\"dataframe\">\n",
       "  <thead>\n",
       "    <tr style=\"text-align: right;\">\n",
       "      <th></th>\n",
       "      <th>Unnamed: 0</th>\n",
       "      <th>watchers_count</th>\n",
       "      <th>stargazers_count</th>\n",
       "      <th>forks</th>\n",
       "    </tr>\n",
       "  </thead>\n",
       "  <tbody>\n",
       "    <tr>\n",
       "      <th>count</th>\n",
       "      <td>171396.000000</td>\n",
       "      <td>171396.000000</td>\n",
       "      <td>171396.000000</td>\n",
       "      <td>171396.000000</td>\n",
       "    </tr>\n",
       "    <tr>\n",
       "      <th>mean</th>\n",
       "      <td>14536.002649</td>\n",
       "      <td>30.975647</td>\n",
       "      <td>30.975647</td>\n",
       "      <td>4.932758</td>\n",
       "    </tr>\n",
       "    <tr>\n",
       "      <th>std</th>\n",
       "      <td>8614.407770</td>\n",
       "      <td>565.045435</td>\n",
       "      <td>565.045435</td>\n",
       "      <td>128.739006</td>\n",
       "    </tr>\n",
       "    <tr>\n",
       "      <th>min</th>\n",
       "      <td>0.000000</td>\n",
       "      <td>0.000000</td>\n",
       "      <td>0.000000</td>\n",
       "      <td>0.000000</td>\n",
       "    </tr>\n",
       "    <tr>\n",
       "      <th>25%</th>\n",
       "      <td>7141.000000</td>\n",
       "      <td>3.000000</td>\n",
       "      <td>3.000000</td>\n",
       "      <td>0.000000</td>\n",
       "    </tr>\n",
       "    <tr>\n",
       "      <th>50%</th>\n",
       "      <td>14282.500000</td>\n",
       "      <td>5.000000</td>\n",
       "      <td>5.000000</td>\n",
       "      <td>0.000000</td>\n",
       "    </tr>\n",
       "    <tr>\n",
       "      <th>75%</th>\n",
       "      <td>21630.000000</td>\n",
       "      <td>9.000000</td>\n",
       "      <td>9.000000</td>\n",
       "      <td>2.000000</td>\n",
       "    </tr>\n",
       "    <tr>\n",
       "      <th>max</th>\n",
       "      <td>30999.000000</td>\n",
       "      <td>140741.000000</td>\n",
       "      <td>140741.000000</td>\n",
       "      <td>31198.000000</td>\n",
       "    </tr>\n",
       "  </tbody>\n",
       "</table>\n",
       "</div>"
      ],
      "text/plain": [
       "          Unnamed: 0  watchers_count  stargazers_count          forks\n",
       "count  171396.000000   171396.000000     171396.000000  171396.000000\n",
       "mean    14536.002649       30.975647         30.975647       4.932758\n",
       "std      8614.407770      565.045435        565.045435     128.739006\n",
       "min         0.000000        0.000000          0.000000       0.000000\n",
       "25%      7141.000000        3.000000          3.000000       0.000000\n",
       "50%     14282.500000        5.000000          5.000000       0.000000\n",
       "75%     21630.000000        9.000000          9.000000       2.000000\n",
       "max     30999.000000   140741.000000     140741.000000   31198.000000"
      ]
     },
     "execution_count": 31,
     "metadata": {},
     "output_type": "execute_result"
    }
   ],
   "source": [
    "df.describe()"
   ]
  },
  {
   "cell_type": "code",
   "execution_count": 32,
   "metadata": {},
   "outputs": [
    {
     "data": {
      "text/plain": [
       "Index(['Unnamed: 0', 'full_name', 'url', 'clone_url', 'watchers_count',\n",
       "       'stargazers_count', 'language', 'forks', 'description', 'type',\n",
       "       'license', 'fork', 'created_at', 'updated_at', 'pushed_at'],\n",
       "      dtype='object')"
      ]
     },
     "execution_count": 32,
     "metadata": {},
     "output_type": "execute_result"
    }
   ],
   "source": [
    "#get names of columns\n",
    "df.columns"
   ]
  },
  {
   "cell_type": "code",
   "execution_count": 33,
   "metadata": {},
   "outputs": [],
   "source": [
    "#Delete culimn unnamed\n",
    "del df['Unnamed: 0']"
   ]
  },
  {
   "cell_type": "code",
   "execution_count": 34,
   "metadata": {},
   "outputs": [
    {
     "data": {
      "text/plain": [
       "(171396, 14)"
      ]
     },
     "execution_count": 34,
     "metadata": {},
     "output_type": "execute_result"
    }
   ],
   "source": [
    "df.shape"
   ]
  },
  {
   "cell_type": "code",
   "execution_count": 35,
   "metadata": {},
   "outputs": [
    {
     "data": {
      "text/plain": [
       "full_name               0\n",
       "url                     0\n",
       "clone_url               0\n",
       "watchers_count          0\n",
       "stargazers_count        0\n",
       "language            25596\n",
       "forks                   0\n",
       "description         53615\n",
       "type                    0\n",
       "license             99199\n",
       "fork                    0\n",
       "created_at              0\n",
       "updated_at              0\n",
       "pushed_at               0\n",
       "dtype: int64"
      ]
     },
     "execution_count": 35,
     "metadata": {},
     "output_type": "execute_result"
    }
   ],
   "source": [
    "#get sum of value null by column\n",
    "df.isnull().sum()"
   ]
  },
  {
   "attachments": {},
   "cell_type": "markdown",
   "metadata": {},
   "source": [
    "<h3>Language<h3>"
   ]
  },
  {
   "cell_type": "code",
   "execution_count": 37,
   "metadata": {},
   "outputs": [],
   "source": [
    "#Drop all row if language column is null\n",
    "\n",
    "df.dropna(subset=['language'],inplace=True)"
   ]
  },
  {
   "attachments": {},
   "cell_type": "markdown",
   "metadata": {},
   "source": [
    "<h3>Description</h3>"
   ]
  },
  {
   "cell_type": "code",
   "execution_count": 38,
   "metadata": {},
   "outputs": [],
   "source": [
    "#Replace all description null\n",
    "\n",
    "df['description'].fillna('No Description', inplace=True)"
   ]
  },
  {
   "cell_type": "code",
   "execution_count": 36,
   "metadata": {},
   "outputs": [],
   "source": [
    "#!pip install emoji\n",
    "#!pip install googletrans==3.1.0a0"
   ]
  },
  {
   "cell_type": "code",
   "execution_count": 39,
   "metadata": {},
   "outputs": [],
   "source": [
    "#import emoji\n",
    "import re\n",
    "\n",
    "#Replace all description content just emoji\n",
    "\n",
    "def remove_emoji(string):\n",
    "    emoji_pattern = re.compile(\"[\"\n",
    "                           u\"\\U0001F600-\\U0001F64F\"  # emoticons\n",
    "                           u\"\\U0001F300-\\U0001F5FF\"  # symbols & pictographs\n",
    "                           u\"\\U0001F680-\\U0001F6FF\"  # transport & map symbols\n",
    "                           u\"\\U0001F1E0-\\U0001F1FF\"  # flags (iOS)\n",
    "                           u\"\\U00002702-\\U000027B0\"\n",
    "                           u\"\\U000024C2-\\U0001F251\"\n",
    "                           \"]+\", flags=re.UNICODE)\n",
    "    return emoji_pattern.sub(r'', string)\n"
   ]
  },
  {
   "cell_type": "code",
   "execution_count": 40,
   "metadata": {},
   "outputs": [
    {
     "data": {
      "text/plain": [
       "0                           A book that teaches JavaScript\n",
       "2        LinksHub aims to provide developers with acces...\n",
       "3        This repository is a Challenge for the DevOps ...\n",
       "5        A custom view build with Obsidian-Dataview to ...\n",
       "6        Some of the scripts I use for scribepod @ http...\n",
       "                               ...                        \n",
       "20390                  HackerRank Python Problem Solutions\n",
       "20391                                       No Description\n",
       "20392    Repository for the simple local web applicatio...\n",
       "20393                                 Hangman GAme in C++!\n",
       "20394                                       No Description\n",
       "Name: description, Length: 145800, dtype: object"
      ]
     },
     "execution_count": 40,
     "metadata": {},
     "output_type": "execute_result"
    }
   ],
   "source": [
    "#Clean description : Delete imojis\n",
    "\n",
    "df['description'].apply(remove_emoji)"
   ]
  },
  {
   "attachments": {},
   "cell_type": "markdown",
   "metadata": {},
   "source": [
    "<ul><li>Translate description</li></ul>"
   ]
  },
  {
   "cell_type": "code",
   "execution_count": 26,
   "metadata": {},
   "outputs": [],
   "source": [
    "#pip install retry"
   ]
  },
  {
   "cell_type": "code",
   "execution_count": 41,
   "metadata": {},
   "outputs": [],
   "source": [
    "#Translate Description to English\n",
    "#import retry\n",
    "import time\n",
    "from googletrans import Translator\n",
    "translator = Translator()\n",
    "\n",
    "#@retry.retry(tries=3,delay=2)\n",
    "def translate_desc(text):\n",
    "    if(translator.detect(text=text).lang == 'en' or text == 'No Description'):\n",
    "        return text\n",
    "    else:\n",
    "        time.sleep(1)\n",
    "        return translator.translate(text).text\n"
   ]
  },
  {
   "cell_type": "code",
   "execution_count": 27,
   "metadata": {},
   "outputs": [],
   "source": [
    "#Translate all description\n",
    "df['description'] = df['description'].apply(translate_desc)"
   ]
  },
  {
   "cell_type": "code",
   "execution_count": 42,
   "metadata": {},
   "outputs": [
    {
     "data": {
      "text/plain": [
       "(145800, 14)"
      ]
     },
     "execution_count": 42,
     "metadata": {},
     "output_type": "execute_result"
    }
   ],
   "source": [
    "df.shape"
   ]
  },
  {
   "attachments": {},
   "cell_type": "markdown",
   "metadata": {},
   "source": [
    "<h3>License<h3>"
   ]
  },
  {
   "cell_type": "code",
   "execution_count": 43,
   "metadata": {},
   "outputs": [],
   "source": [
    "#Replace all license null\n",
    "\n",
    "df['license'].fillna('No License',inplace=True)"
   ]
  },
  {
   "cell_type": "code",
   "execution_count": 44,
   "metadata": {},
   "outputs": [
    {
     "data": {
      "text/plain": [
       "847"
      ]
     },
     "execution_count": 44,
     "metadata": {},
     "output_type": "execute_result"
    }
   ],
   "source": [
    "#calculat sum of duplicated rows\n",
    "\n",
    "df.duplicated().sum()"
   ]
  },
  {
   "cell_type": "code",
   "execution_count": 45,
   "metadata": {},
   "outputs": [],
   "source": [
    "df.drop_duplicates(inplace=True)"
   ]
  },
  {
   "cell_type": "code",
   "execution_count": 46,
   "metadata": {},
   "outputs": [
    {
     "name": "stdout",
     "output_type": "stream",
     "text": [
      "<class 'pandas.core.frame.DataFrame'>\n",
      "Int64Index: 144953 entries, 0 to 20394\n",
      "Data columns (total 14 columns):\n",
      " #   Column            Non-Null Count   Dtype \n",
      "---  ------            --------------   ----- \n",
      " 0   full_name         144953 non-null  object\n",
      " 1   url               144953 non-null  object\n",
      " 2   clone_url         144953 non-null  object\n",
      " 3   watchers_count    144953 non-null  int64 \n",
      " 4   stargazers_count  144953 non-null  int64 \n",
      " 5   language          144953 non-null  object\n",
      " 6   forks             144953 non-null  int64 \n",
      " 7   description       144953 non-null  object\n",
      " 8   type              144953 non-null  object\n",
      " 9   license           144953 non-null  object\n",
      " 10  fork              144953 non-null  bool  \n",
      " 11  created_at        144953 non-null  object\n",
      " 12  updated_at        144953 non-null  object\n",
      " 13  pushed_at         144953 non-null  object\n",
      "dtypes: bool(1), int64(3), object(10)\n",
      "memory usage: 15.6+ MB\n"
     ]
    }
   ],
   "source": [
    "df.info()"
   ]
  },
  {
   "cell_type": "code",
   "execution_count": 20,
   "metadata": {},
   "outputs": [],
   "source": [
    "#Creat two indexs for culumns type numeric and categories\n",
    "num_repositories_columns = df.select_dtypes(include=['int64','float64']).columns\n",
    "cat_repositories_columns = df.select_dtypes(include='object').columns"
   ]
  },
  {
   "cell_type": "code",
   "execution_count": 21,
   "metadata": {},
   "outputs": [],
   "source": [
    "#!pip install scikit-learn\n",
    "from sklearn.preprocessing import LabelEncoder\n",
    "scale = LabelEncoder()"
   ]
  },
  {
   "cell_type": "code",
   "execution_count": 22,
   "metadata": {},
   "outputs": [],
   "source": [
    "#convert columns datatype category to data type numeric\n",
    "for i in num_repositories_columns:\n",
    "    df[i] = scale.fit_transform(df[i])"
   ]
  },
  {
   "cell_type": "code",
   "execution_count": 23,
   "metadata": {},
   "outputs": [
    {
     "name": "stdout",
     "output_type": "stream",
     "text": [
      "<class 'pandas.core.frame.DataFrame'>\n",
      "Int64Index: 144953 entries, 0 to 20394\n",
      "Data columns (total 14 columns):\n",
      " #   Column            Non-Null Count   Dtype \n",
      "---  ------            --------------   ----- \n",
      " 0   full_name         144953 non-null  object\n",
      " 1   url               144953 non-null  object\n",
      " 2   clone_url         144953 non-null  object\n",
      " 3   watchers_count    144953 non-null  int64 \n",
      " 4   stargazers_count  144953 non-null  int64 \n",
      " 5   language          144953 non-null  object\n",
      " 6   forks             144953 non-null  int64 \n",
      " 7   description       144953 non-null  object\n",
      " 8   type              144953 non-null  object\n",
      " 9   license           66033 non-null   object\n",
      " 10  fork              144953 non-null  bool  \n",
      " 11  created_at        144953 non-null  object\n",
      " 12  updated_at        144953 non-null  object\n",
      " 13  pushed_at         144953 non-null  object\n",
      "dtypes: bool(1), int64(3), object(10)\n",
      "memory usage: 15.6+ MB\n"
     ]
    }
   ],
   "source": [
    "df.info()"
   ]
  },
  {
   "cell_type": "code",
   "execution_count": 47,
   "metadata": {},
   "outputs": [
    {
     "data": {
      "text/html": [
       "<div>\n",
       "<style scoped>\n",
       "    .dataframe tbody tr th:only-of-type {\n",
       "        vertical-align: middle;\n",
       "    }\n",
       "\n",
       "    .dataframe tbody tr th {\n",
       "        vertical-align: top;\n",
       "    }\n",
       "\n",
       "    .dataframe thead th {\n",
       "        text-align: right;\n",
       "    }\n",
       "</style>\n",
       "<table border=\"1\" class=\"dataframe\">\n",
       "  <thead>\n",
       "    <tr style=\"text-align: right;\">\n",
       "      <th></th>\n",
       "      <th>full_name</th>\n",
       "      <th>url</th>\n",
       "      <th>clone_url</th>\n",
       "      <th>watchers_count</th>\n",
       "      <th>stargazers_count</th>\n",
       "      <th>language</th>\n",
       "      <th>forks</th>\n",
       "      <th>description</th>\n",
       "      <th>type</th>\n",
       "      <th>license</th>\n",
       "      <th>fork</th>\n",
       "      <th>created_at</th>\n",
       "      <th>updated_at</th>\n",
       "      <th>pushed_at</th>\n",
       "    </tr>\n",
       "  </thead>\n",
       "  <tbody>\n",
       "    <tr>\n",
       "      <th>3</th>\n",
       "      <td>LondheShubham153/90DaysOfDevOps</td>\n",
       "      <td>https://github.com/LondheShubham153/90DaysOfDe...</td>\n",
       "      <td>https://github.com/LondheShubham153/90DaysOfDe...</td>\n",
       "      <td>343</td>\n",
       "      <td>343</td>\n",
       "      <td>Python</td>\n",
       "      <td>2194</td>\n",
       "      <td>This repository is a Challenge for the DevOps ...</td>\n",
       "      <td>User</td>\n",
       "      <td>{'key': 'other', 'name': 'Other', 'spdx_id': '...</td>\n",
       "      <td>False</td>\n",
       "      <td>2023-01-01</td>\n",
       "      <td>2023-01-01</td>\n",
       "      <td>2023-01-01</td>\n",
       "    </tr>\n",
       "    <tr>\n",
       "      <th>2</th>\n",
       "      <td>rupali-codes/LinksHub</td>\n",
       "      <td>https://github.com/rupali-codes/LinksHub</td>\n",
       "      <td>https://github.com/rupali-codes/LinksHub.git</td>\n",
       "      <td>348</td>\n",
       "      <td>348</td>\n",
       "      <td>TypeScript</td>\n",
       "      <td>283</td>\n",
       "      <td>LinksHub aims to provide developers with acces...</td>\n",
       "      <td>User</td>\n",
       "      <td>{'key': 'mit', 'name': 'MIT License', 'spdx_id...</td>\n",
       "      <td>False</td>\n",
       "      <td>2023-01-01</td>\n",
       "      <td>2023-01-01</td>\n",
       "      <td>2023-01-01</td>\n",
       "    </tr>\n",
       "    <tr>\n",
       "      <th>0</th>\n",
       "      <td>sumn2u/learn-javascript</td>\n",
       "      <td>https://github.com/sumn2u/learn-javascript</td>\n",
       "      <td>https://github.com/sumn2u/learn-javascript.git</td>\n",
       "      <td>626</td>\n",
       "      <td>626</td>\n",
       "      <td>HTML</td>\n",
       "      <td>31</td>\n",
       "      <td>A book that teaches JavaScript</td>\n",
       "      <td>User</td>\n",
       "      <td>{'key': 'apache-2.0', 'name': 'Apache License ...</td>\n",
       "      <td>False</td>\n",
       "      <td>2023-01-01</td>\n",
       "      <td>2023-01-01</td>\n",
       "      <td>2023-01-01</td>\n",
       "    </tr>\n",
       "    <tr>\n",
       "      <th>6</th>\n",
       "      <td>yacineMTB/scribepod</td>\n",
       "      <td>https://github.com/yacineMTB/scribepod</td>\n",
       "      <td>https://github.com/yacineMTB/scribepod.git</td>\n",
       "      <td>147</td>\n",
       "      <td>147</td>\n",
       "      <td>Jupyter Notebook</td>\n",
       "      <td>14</td>\n",
       "      <td>Some of the scripts I use for scribepod @ http...</td>\n",
       "      <td>User</td>\n",
       "      <td>No License</td>\n",
       "      <td>False</td>\n",
       "      <td>2023-01-01</td>\n",
       "      <td>2023-01-01</td>\n",
       "      <td>2023-01-01</td>\n",
       "    </tr>\n",
       "    <tr>\n",
       "      <th>5</th>\n",
       "      <td>702573N/Obsidian-Tasks-Timeline</td>\n",
       "      <td>https://github.com/702573N/Obsidian-Tasks-Time...</td>\n",
       "      <td>https://github.com/702573N/Obsidian-Tasks-Time...</td>\n",
       "      <td>165</td>\n",
       "      <td>165</td>\n",
       "      <td>JavaScript</td>\n",
       "      <td>13</td>\n",
       "      <td>A custom view build with Obsidian-Dataview to ...</td>\n",
       "      <td>User</td>\n",
       "      <td>No License</td>\n",
       "      <td>False</td>\n",
       "      <td>2023-01-01</td>\n",
       "      <td>2023-01-01</td>\n",
       "      <td>2023-01-01</td>\n",
       "    </tr>\n",
       "  </tbody>\n",
       "</table>\n",
       "</div>"
      ],
      "text/plain": [
       "                         full_name  \\\n",
       "3  LondheShubham153/90DaysOfDevOps   \n",
       "2            rupali-codes/LinksHub   \n",
       "0          sumn2u/learn-javascript   \n",
       "6              yacineMTB/scribepod   \n",
       "5  702573N/Obsidian-Tasks-Timeline   \n",
       "\n",
       "                                                 url  \\\n",
       "3  https://github.com/LondheShubham153/90DaysOfDe...   \n",
       "2           https://github.com/rupali-codes/LinksHub   \n",
       "0         https://github.com/sumn2u/learn-javascript   \n",
       "6             https://github.com/yacineMTB/scribepod   \n",
       "5  https://github.com/702573N/Obsidian-Tasks-Time...   \n",
       "\n",
       "                                           clone_url  watchers_count  \\\n",
       "3  https://github.com/LondheShubham153/90DaysOfDe...             343   \n",
       "2       https://github.com/rupali-codes/LinksHub.git             348   \n",
       "0     https://github.com/sumn2u/learn-javascript.git             626   \n",
       "6         https://github.com/yacineMTB/scribepod.git             147   \n",
       "5  https://github.com/702573N/Obsidian-Tasks-Time...             165   \n",
       "\n",
       "   stargazers_count          language  forks  \\\n",
       "3               343            Python   2194   \n",
       "2               348        TypeScript    283   \n",
       "0               626              HTML     31   \n",
       "6               147  Jupyter Notebook     14   \n",
       "5               165        JavaScript     13   \n",
       "\n",
       "                                         description  type  \\\n",
       "3  This repository is a Challenge for the DevOps ...  User   \n",
       "2  LinksHub aims to provide developers with acces...  User   \n",
       "0                     A book that teaches JavaScript  User   \n",
       "6  Some of the scripts I use for scribepod @ http...  User   \n",
       "5  A custom view build with Obsidian-Dataview to ...  User   \n",
       "\n",
       "                                             license   fork  created_at  \\\n",
       "3  {'key': 'other', 'name': 'Other', 'spdx_id': '...  False  2023-01-01   \n",
       "2  {'key': 'mit', 'name': 'MIT License', 'spdx_id...  False  2023-01-01   \n",
       "0  {'key': 'apache-2.0', 'name': 'Apache License ...  False  2023-01-01   \n",
       "6                                         No License  False  2023-01-01   \n",
       "5                                         No License  False  2023-01-01   \n",
       "\n",
       "   updated_at   pushed_at  \n",
       "3  2023-01-01  2023-01-01  \n",
       "2  2023-01-01  2023-01-01  \n",
       "0  2023-01-01  2023-01-01  \n",
       "6  2023-01-01  2023-01-01  \n",
       "5  2023-01-01  2023-01-01  "
      ]
     },
     "execution_count": 47,
     "metadata": {},
     "output_type": "execute_result"
    }
   ],
   "source": [
    "#Convert datetime to date\n",
    "df['created_at'] = pd.to_datetime(df['created_at']).dt.date\n",
    "df['updated_at'] = pd.to_datetime(df['created_at']).dt.date\n",
    "df['pushed_at'] = pd.to_datetime(df['created_at']).dt.date\n",
    "\n",
    "df.head().sort_values('forks',ascending=False)"
   ]
  },
  {
   "cell_type": "code",
   "execution_count": 52,
   "metadata": {},
   "outputs": [
    {
     "name": "stdout",
     "output_type": "stream",
     "text": [
      "-7.5 -3.0 5.0 20.5\n"
     ]
    }
   ],
   "source": [
    "#Calculat outlier of watchers|forks\n",
    "\n",
    "w_Q1=df['watchers_count'].quantile(0.25)\n",
    "w_Q3=df['watchers_count'].quantile(0.75)\n",
    "\n",
    "w_IQR=w_Q3-w_Q1\n",
    "\n",
    "w_Lower_Whisker = w_Q1 - 1.5 * w_IQR\n",
    "w_Upper_Whisker = w_Q3 + 1.5 * w_IQR\n",
    "\n",
    "f_Q1=df['forks'].quantile(0.25)\n",
    "f_Q3=df['forks'].quantile(0.75)\n",
    "\n",
    "f_IQR=f_Q3-f_Q1\n",
    "\n",
    "f_Lower_Whisker = f_Q1 - 1.5 * f_IQR\n",
    "f_Upper_Whisker = f_Q3 + 1.5 * f_IQR\n",
    "\n",
    "print(w_Lower_Whisker,f_Lower_Whisker,f_Upper_Whisker, w_Upper_Whisker)"
   ]
  },
  {
   "cell_type": "code",
   "execution_count": 53,
   "metadata": {},
   "outputs": [
    {
     "name": "stdout",
     "output_type": "stream",
     "text": [
      "0 17637\n"
     ]
    }
   ],
   "source": [
    "print(len(df.loc[df['watchers_count'] < w_Lower_Whisker]),len(df.loc[df['watchers_count'] > w_Upper_Whisker]))"
   ]
  },
  {
   "cell_type": "code",
   "execution_count": 54,
   "metadata": {},
   "outputs": [
    {
     "data": {
      "text/plain": [
       "Python         29812\n",
       "JavaScript     21674\n",
       "TypeScript     15225\n",
       "HTML            8354\n",
       "Java            7067\n",
       "               ...  \n",
       "Pod                1\n",
       "HyPhy              1\n",
       "XS                 1\n",
       "CWeb               1\n",
       "Classic ASP        1\n",
       "Name: language, Length: 315, dtype: int64"
      ]
     },
     "metadata": {},
     "output_type": "display_data"
    },
    {
     "data": {
      "text/plain": [
       "Python        5222\n",
       "TypeScript    2163\n",
       "JavaScript    1583\n",
       "Go             833\n",
       "C++            785\n",
       "              ... \n",
       "mcfunction       1\n",
       "Fortran          1\n",
       "Groovy           1\n",
       "Max              1\n",
       "sed              1\n",
       "Name: language, Length: 159, dtype: int64"
      ]
     },
     "metadata": {},
     "output_type": "display_data"
    }
   ],
   "source": [
    "#separation outliers in other dataframe\n",
    "\n",
    "watchers_outliers_df = df.loc[(df['watchers_count'] < w_Lower_Whisker) | (df['watchers_count'] > w_Upper_Whisker)]\n",
    "\n",
    "forks_outliers_df = df.loc[(df['forks'] < f_Lower_Whisker) | (df['forks'] > f_Upper_Whisker)]\n",
    "\n",
    "display(df['language'].value_counts(),watchers_outliers_df['language'].value_counts())\n"
   ]
  },
  {
   "cell_type": "code",
   "execution_count": 55,
   "metadata": {},
   "outputs": [],
   "source": [
    "#Create two file csv for insert all values without : watchers | forks\n",
    "df.loc[(df['watchers_count'] > w_Lower_Whisker) & (df['watchers_count'] < w_Upper_Whisker)].to_csv('data/data_cleaned/data_without_watchers_outliers.csv')\n",
    "df.loc[(df['forks'] > f_Lower_Whisker) & (df['forks'] < f_Upper_Whisker)].to_csv('data/data_cleaned/data_without_forks_outliers.csv')"
   ]
  },
  {
   "cell_type": "code",
   "execution_count": 56,
   "metadata": {},
   "outputs": [],
   "source": [
    "#Create two file csv for insert all values outliers : watchers | forks\n",
    "df.loc[(df['watchers_count'] < w_Lower_Whisker) & (df['watchers_count'] > w_Upper_Whisker)].to_csv('data/data_cleaned/watchers_outliers.csv')\n",
    "df.loc[(df['forks'] < f_Lower_Whisker) & (df['forks'] > f_Upper_Whisker)].to_csv('data/data_cleaned/forks_outliers.csv')"
   ]
  },
  {
   "cell_type": "code",
   "execution_count": 57,
   "metadata": {},
   "outputs": [],
   "source": [
    "#Read data without watchers | forks ouliers\n",
    "df_without_watchers = pd.read_csv('data/data_cleaned/data_without_watchers_outliers.csv')\n",
    "df_without_forks = pd.read_csv('data/data_cleaned/data_without_forks_outliers.csv')\n"
   ]
  },
  {
   "cell_type": "code",
   "execution_count": 58,
   "metadata": {},
   "outputs": [
    {
     "data": {
      "image/png": "[encoded data removed]",
      "text/plain": [
       "<Figure size 640x480 with 1 Axes>"
      ]
     },
     "metadata": {},
     "output_type": "display_data"
    }
   ],
   "source": [
    "w_boxblot = plt.boxplot(\n",
    "    df_without_watchers['watchers_count'],\n",
    "    notch=True,  # notch shape\n",
    "    vert=False,  # vertical box alignment\n",
    "    patch_artist=True,  # fill with color\n",
    "    labels=['Watchers']\n",
    ")"
   ]
  },
  {
   "cell_type": "code",
   "execution_count": 59,
   "metadata": {},
   "outputs": [
    {
     "data": {
      "image/png": "[encoded data removed]",
      "text/plain": [
       "<Figure size 640x480 with 1 Axes>"
      ]
     },
     "metadata": {},
     "output_type": "display_data"
    }
   ],
   "source": [
    "\n",
    "w_boxblot = plt.boxplot(\n",
    "    df_without_forks['forks'],\n",
    "    notch=True,  # notch shape\n",
    "    vert=False,  # vertical box alignment\n",
    "    patch_artist=True,  # fill with color\n",
    "    labels=['Watchers']\n",
    ")"
   ]
  },
  {
   "cell_type": "code",
   "execution_count": 288,
   "metadata": {},
   "outputs": [
    {
     "data": {
      "text/plain": [
       "0"
      ]
     },
     "execution_count": 288,
     "metadata": {},
     "output_type": "execute_result"
    }
   ],
   "source": []
  },
  {
   "attachments": {},
   "cell_type": "markdown",
   "metadata": {},
   "source": [
    "<h2>Trending repositories :<h2>"
   ]
  },
  {
   "cell_type": "code",
   "execution_count": 125,
   "metadata": {},
   "outputs": [],
   "source": [
    "#chargement dataframe : trending repo\n",
    "df_trending = pd.read_csv('trending_2023_06_16.csv',index_col=0)\n",
    "df_languages_trending = pd.read_csv('languages_trending_2023_06_16.csv',index_col=0)"
   ]
  },
  {
   "cell_type": "code",
   "execution_count": 126,
   "metadata": {},
   "outputs": [
    {
     "name": "stdout",
     "output_type": "stream",
     "text": [
      "<class 'pandas.core.frame.DataFrame'>\n",
      "Index: 25 entries, 0 to 24\n",
      "Data columns (total 4 columns):\n",
      " #   Column  Non-Null Count  Dtype \n",
      "---  ------  --------------  ----- \n",
      " 0   label   25 non-null     object\n",
      " 1   link    25 non-null     object\n",
      " 2   stars   25 non-null     object\n",
      " 3   forks   25 non-null     object\n",
      "dtypes: object(4)\n",
      "memory usage: 1000.0+ bytes\n"
     ]
    }
   ],
   "source": [
    "df_trending.info()"
   ]
  },
  {
   "cell_type": "code",
   "execution_count": 127,
   "metadata": {},
   "outputs": [
    {
     "data": {
      "text/plain": [
       "Index(['forks', 'stars'], dtype='object')"
      ]
     },
     "execution_count": 127,
     "metadata": {},
     "output_type": "execute_result"
    }
   ],
   "source": [
    "#get name of columns for normalizing\n",
    "cat_trending_columns = df_trending.loc[:,['forks','stars']].columns\n",
    "cat_trending_columns"
   ]
  },
  {
   "cell_type": "code",
   "execution_count": 128,
   "metadata": {},
   "outputs": [],
   "source": [
    "#loop for normalize columns of type Object to Int\n",
    "for i in cat_trending_columns:\n",
    "    df_trending[i] = scale.fit_transform(df_trending[i])"
   ]
  },
  {
   "cell_type": "code",
   "execution_count": 129,
   "metadata": {},
   "outputs": [
    {
     "name": "stdout",
     "output_type": "stream",
     "text": [
      "<class 'pandas.core.frame.DataFrame'>\n",
      "Index: 25 entries, 0 to 24\n",
      "Data columns (total 4 columns):\n",
      " #   Column  Non-Null Count  Dtype \n",
      "---  ------  --------------  ----- \n",
      " 0   label   25 non-null     object\n",
      " 1   link    25 non-null     object\n",
      " 2   stars   25 non-null     int32 \n",
      " 3   forks   25 non-null     int32 \n",
      "dtypes: int32(2), object(2)\n",
      "memory usage: 800.0+ bytes\n"
     ]
    }
   ],
   "source": [
    "df_trending.info()"
   ]
  },
  {
   "cell_type": "code",
   "execution_count": 131,
   "metadata": {},
   "outputs": [
    {
     "data": {
      "text/plain": [
       "label    0\n",
       "link     0\n",
       "stars    0\n",
       "forks    0\n",
       "dtype: int64"
      ]
     },
     "execution_count": 131,
     "metadata": {},
     "output_type": "execute_result"
    }
   ],
   "source": [
    "df_trending.isna().sum()"
   ]
  },
  {
   "cell_type": "code",
   "execution_count": 130,
   "metadata": {},
   "outputs": [
    {
     "data": {
      "text/plain": [
       "0"
      ]
     },
     "execution_count": 130,
     "metadata": {},
     "output_type": "execute_result"
    }
   ],
   "source": [
    "df_trending.duplicated().sum()"
   ]
  },
  {
   "cell_type": "code",
   "execution_count": 124,
   "metadata": {},
   "outputs": [
    {
     "name": "stdout",
     "output_type": "stream",
     "text": [
      "<class 'pandas.core.frame.DataFrame'>\n",
      "Index: 126 entries, 0 to 125\n",
      "Data columns (total 3 columns):\n",
      " #   Column     Non-Null Count  Dtype \n",
      "---  ------     --------------  ----- \n",
      " 0   id         126 non-null    object\n",
      " 1   lang_name  126 non-null    object\n",
      " 2   lines      126 non-null    int64 \n",
      "dtypes: int64(1), object(2)\n",
      "memory usage: 3.9+ KB\n"
     ]
    }
   ],
   "source": [
    "df_languages_trending.info()"
   ]
  },
  {
   "cell_type": "code",
   "execution_count": 7,
   "metadata": {},
   "outputs": [
    {
     "data": {
      "text/html": [
       "<div>\n",
       "<style scoped>\n",
       "    .dataframe tbody tr th:only-of-type {\n",
       "        vertical-align: middle;\n",
       "    }\n",
       "\n",
       "    .dataframe tbody tr th {\n",
       "        vertical-align: top;\n",
       "    }\n",
       "\n",
       "    .dataframe thead th {\n",
       "        text-align: right;\n",
       "    }\n",
       "</style>\n",
       "<table border=\"1\" class=\"dataframe\">\n",
       "  <thead>\n",
       "    <tr style=\"text-align: right;\">\n",
       "      <th></th>\n",
       "      <th>label</th>\n",
       "      <th>link</th>\n",
       "      <th>stars</th>\n",
       "      <th>forks</th>\n",
       "    </tr>\n",
       "  </thead>\n",
       "  <tbody>\n",
       "    <tr>\n",
       "      <th>count</th>\n",
       "      <td>25</td>\n",
       "      <td>25</td>\n",
       "      <td>25</td>\n",
       "      <td>25</td>\n",
       "    </tr>\n",
       "    <tr>\n",
       "      <th>unique</th>\n",
       "      <td>25</td>\n",
       "      <td>25</td>\n",
       "      <td>25</td>\n",
       "      <td>25</td>\n",
       "    </tr>\n",
       "    <tr>\n",
       "      <th>top</th>\n",
       "      <td>StanGirard/quivr</td>\n",
       "      <td>https://github.com/StanGirard/quivr</td>\n",
       "      <td>7,694</td>\n",
       "      <td>963</td>\n",
       "    </tr>\n",
       "    <tr>\n",
       "      <th>freq</th>\n",
       "      <td>1</td>\n",
       "      <td>1</td>\n",
       "      <td>1</td>\n",
       "      <td>1</td>\n",
       "    </tr>\n",
       "  </tbody>\n",
       "</table>\n",
       "</div>"
      ],
      "text/plain": [
       "                   label                                 link  stars forks\n",
       "count                 25                                   25     25    25\n",
       "unique                25                                   25     25    25\n",
       "top     StanGirard/quivr  https://github.com/StanGirard/quivr  7,694   963\n",
       "freq                   1                                    1      1     1"
      ]
     },
     "execution_count": 7,
     "metadata": {},
     "output_type": "execute_result"
    }
   ],
   "source": [
    "df_trending.describe()"
   ]
  },
  {
   "cell_type": "code",
   "execution_count": 370,
   "metadata": {},
   "outputs": [
    {
     "data": {
      "text/plain": [
       "label    0\n",
       "link     0\n",
       "stars    0\n",
       "forks    0\n",
       "dtype: int64"
      ]
     },
     "execution_count": 370,
     "metadata": {},
     "output_type": "execute_result"
    }
   ],
   "source": [
    "df_trending.isna().sum()"
   ]
  },
  {
   "cell_type": "code",
   "execution_count": 368,
   "metadata": {},
   "outputs": [
    {
     "data": {
      "text/plain": [
       "id           0\n",
       "lang_name    0\n",
       "lines        0\n",
       "dtype: int64"
      ]
     },
     "execution_count": 368,
     "metadata": {},
     "output_type": "execute_result"
    }
   ],
   "source": [
    "df_languages_trending.isna().sum()"
   ]
  },
  {
   "cell_type": "code",
   "execution_count": 371,
   "metadata": {},
   "outputs": [
    {
     "data": {
      "text/html": [
       "<div>\n",
       "<style scoped>\n",
       "    .dataframe tbody tr th:only-of-type {\n",
       "        vertical-align: middle;\n",
       "    }\n",
       "\n",
       "    .dataframe tbody tr th {\n",
       "        vertical-align: top;\n",
       "    }\n",
       "\n",
       "    .dataframe thead th {\n",
       "        text-align: right;\n",
       "    }\n",
       "</style>\n",
       "<table border=\"1\" class=\"dataframe\">\n",
       "  <thead>\n",
       "    <tr style=\"text-align: right;\">\n",
       "      <th></th>\n",
       "      <th>id</th>\n",
       "      <th>lang_name</th>\n",
       "      <th>lines</th>\n",
       "    </tr>\n",
       "  </thead>\n",
       "  <tbody>\n",
       "    <tr>\n",
       "      <th>0</th>\n",
       "      <td>StanGirard/quivr</td>\n",
       "      <td>TypeScript</td>\n",
       "      <td>108271</td>\n",
       "    </tr>\n",
       "    <tr>\n",
       "      <th>1</th>\n",
       "      <td>StanGirard/quivr</td>\n",
       "      <td>Python</td>\n",
       "      <td>85923</td>\n",
       "    </tr>\n",
       "    <tr>\n",
       "      <th>2</th>\n",
       "      <td>StanGirard/quivr</td>\n",
       "      <td>JavaScript</td>\n",
       "      <td>6319</td>\n",
       "    </tr>\n",
       "    <tr>\n",
       "      <th>3</th>\n",
       "      <td>StanGirard/quivr</td>\n",
       "      <td>PLpgSQL</td>\n",
       "      <td>4072</td>\n",
       "    </tr>\n",
       "    <tr>\n",
       "      <th>4</th>\n",
       "      <td>StanGirard/quivr</td>\n",
       "      <td>Dockerfile</td>\n",
       "      <td>1626</td>\n",
       "    </tr>\n",
       "    <tr>\n",
       "      <th>...</th>\n",
       "      <td>...</td>\n",
       "      <td>...</td>\n",
       "      <td>...</td>\n",
       "    </tr>\n",
       "    <tr>\n",
       "      <th>121</th>\n",
       "      <td>ordinals/ord</td>\n",
       "      <td>CSS</td>\n",
       "      <td>8662</td>\n",
       "    </tr>\n",
       "    <tr>\n",
       "      <th>122</th>\n",
       "      <td>ordinals/ord</td>\n",
       "      <td>Just</td>\n",
       "      <td>4842</td>\n",
       "    </tr>\n",
       "    <tr>\n",
       "      <th>123</th>\n",
       "      <td>ordinals/ord</td>\n",
       "      <td>JavaScript</td>\n",
       "      <td>1446</td>\n",
       "    </tr>\n",
       "    <tr>\n",
       "      <th>124</th>\n",
       "      <td>ordinals/ord</td>\n",
       "      <td>Python</td>\n",
       "      <td>1124</td>\n",
       "    </tr>\n",
       "    <tr>\n",
       "      <th>125</th>\n",
       "      <td>ordinals/ord</td>\n",
       "      <td>Nix</td>\n",
       "      <td>365</td>\n",
       "    </tr>\n",
       "  </tbody>\n",
       "</table>\n",
       "<p>126 rows × 3 columns</p>\n",
       "</div>"
      ],
      "text/plain": [
       "                   id   lang_name   lines\n",
       "0    StanGirard/quivr  TypeScript  108271\n",
       "1    StanGirard/quivr      Python   85923\n",
       "2    StanGirard/quivr  JavaScript    6319\n",
       "3    StanGirard/quivr     PLpgSQL    4072\n",
       "4    StanGirard/quivr  Dockerfile    1626\n",
       "..                ...         ...     ...\n",
       "121      ordinals/ord         CSS    8662\n",
       "122      ordinals/ord        Just    4842\n",
       "123      ordinals/ord  JavaScript    1446\n",
       "124      ordinals/ord      Python    1124\n",
       "125      ordinals/ord         Nix     365\n",
       "\n",
       "[126 rows x 3 columns]"
      ]
     },
     "execution_count": 371,
     "metadata": {},
     "output_type": "execute_result"
    }
   ],
   "source": [
    "\n",
    "#df_languages_trending.groupby(['id'])['lang_name'].apply(lambda x : x)\n",
    "\n",
    "df_languages_trending"
   ]
  }
 ],
 "metadata": {
  "kernelspec": {
   "display_name": "base",
   "language": "python",
   "name": "python3"
  },
  "language_info": {
   "codemirror_mode": {
    "name": "ipython",
    "version": 3
   },
   "file_extension": ".py",
   "mimetype": "text/x-python",
   "name": "python",
   "nbconvert_exporter": "python",
   "pygments_lexer": "ipython3",
   "version": "3.10.10"
  },
  "orig_nbformat": 4
 },
 "nbformat": 4,
 "nbformat_minor": 2
}
